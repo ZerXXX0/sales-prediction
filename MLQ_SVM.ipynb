{
  "nbformat": 4,
  "nbformat_minor": 0,
  "metadata": {
    "colab": {
      "provenance": [],
      "authorship_tag": "ABX9TyMB/Ncf7dxjRMgN/bNOe8rl",
      "include_colab_link": true
    },
    "kernelspec": {
      "name": "python3",
      "display_name": "Python 3"
    },
    "language_info": {
      "name": "python"
    }
  },
  "cells": [
    {
      "cell_type": "markdown",
      "metadata": {
        "id": "view-in-github",
        "colab_type": "text"
      },
      "source": [
        "<a href=\"https://colab.research.google.com/github/ZerXXX0/sales-prediction/blob/main/MLQ_SVM.ipynb\" target=\"_parent\"><img src=\"https://colab.research.google.com/assets/colab-badge.svg\" alt=\"Open In Colab\"/></a>"
      ]
    },
    {
      "cell_type": "code",
      "execution_count": 1,
      "metadata": {
        "id": "9eMW9juxIC2N"
      },
      "outputs": [],
      "source": [
        "import pandas as pd\n",
        "from sklearn.impute import SimpleImputer\n",
        "from sklearn.preprocessing import StandardScaler\n",
        "from sklearn.svm import SVC\n",
        "from sklearn.metrics import accuracy_score\n",
        "from sklearn.model_selection import train_test_split\n",
        "\n",
        "# Load data\n",
        "train_df = pd.read_csv('https://raw.githubusercontent.com/ZerXXX0/sales-prediction/refs/heads/main/dataset/train_final.csv')\n",
        "test_df = pd.read_csv('https://raw.githubusercontent.com/ZerXXX0/sales-prediction/refs/heads/main/dataset/test_final.csv')\n",
        "\n",
        "# Columns to drop\n",
        "drop_cols = ['Unnamed: 0', 'TransactionID', 'MemberID']\n",
        "\n",
        "# Prepare training data\n",
        "train_df_clean = train_df.drop(columns=drop_cols)\n",
        "X = train_df_clean.drop(columns=['next_buy'])\n",
        "y = train_df_clean['next_buy']\n",
        "\n",
        "# Save column order\n",
        "train_cols = X.columns.tolist()\n",
        "\n",
        "# Impute and scale\n",
        "imputer = SimpleImputer(strategy='mean')\n",
        "X_imputed = imputer.fit_transform(X)\n",
        "\n",
        "scaler = StandardScaler()\n",
        "X_scaled = scaler.fit_transform(X_imputed)\n",
        "\n",
        "# Train-val split\n",
        "X_train, X_val, y_train, y_val = train_test_split(X_scaled, y, test_size=0.2, stratify=y, random_state=42)\n"
      ]
    },
    {
      "cell_type": "code",
      "source": [
        "clf = SVC(kernel='rbf', C=1.0, gamma='scale', class_weight='balanced')\n",
        "clf.fit(X_train, y_train)\n",
        "\n",
        "# Evaluate\n",
        "y_pred = clf.predict(X_val)\n",
        "val_acc = accuracy_score(y_val, y_pred)\n",
        "print(f\"Validation Accuracy: {val_acc * 100:.2f}%\")\n"
      ],
      "metadata": {
        "id": "Le4l_1GwJEEl"
      },
      "execution_count": null,
      "outputs": []
    },
    {
      "cell_type": "code",
      "source": [
        "# Preprocess test set\n",
        "test_df_clean = test_df.drop(columns=drop_cols)\n",
        "test_df_clean = test_df_clean[train_cols]  # reorder columns\n",
        "\n",
        "X_test_imputed = imputer.transform(test_df_clean)\n",
        "X_test_scaled = scaler.transform(X_test_imputed)\n",
        "\n",
        "# Predict\n",
        "test_preds = clf.predict(X_test_scaled)\n",
        "\n",
        "# Prepare final submission\n",
        "submission = pd.DataFrame({\n",
        "    \"MemberID\": test_df[\"MemberID\"],\n",
        "    \"next_buy\": test_preds\n",
        "})\n",
        "submission.to_csv(\"svm_submission.csv\", index=False)"
      ],
      "metadata": {
        "id": "pUe9NwAtJHmQ"
      },
      "execution_count": null,
      "outputs": []
    },
    {
      "cell_type": "code",
      "source": [
        "submission_df = pd.read_csv(\"svm_submission.csv\")\n",
        "submission_df.info()"
      ],
      "metadata": {
        "id": "le7dh9_EJjk5"
      },
      "execution_count": null,
      "outputs": []
    },
    {
      "cell_type": "code",
      "source": [
        "submit_df = pd.read_csv(\"https://raw.githubusercontent.com/ZerXXX0/sales-prediction/refs/heads/main/dataset/sample_submission.csv\")\n",
        "# First, create a new dataframe from submission_df with duplicate MemberIDs removed.\n",
        "# We keep the 'last' entry for each member.\n",
        "submission_df_unique = submission_df.drop_duplicates(subset=['MemberID'], keep='last')\n",
        "\n",
        "# Now, create the lookup map from this de-duplicated dataframe.\n",
        "# This will succeed because the 'MemberID' index is now unique.\n",
        "next_buy_lookup = submission_df_unique.set_index('MemberID')['next_buy']\n",
        "\n",
        "# Proceed with the map operation as before. This will now work correctly.\n",
        "submit_df['next_buy'] = submit_df['MemberID'].map(next_buy_lookup)\n",
        "\n",
        "submit_df.info()"
      ],
      "metadata": {
        "id": "cy3EWPjFJXrq"
      },
      "execution_count": null,
      "outputs": []
    },
    {
      "cell_type": "code",
      "source": [
        "submit_df.to_csv('submission_SVM.csv', index=False)"
      ],
      "metadata": {
        "id": "dNGmHtf8JY9s"
      },
      "execution_count": null,
      "outputs": []
    }
  ]
}