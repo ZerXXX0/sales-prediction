{
  "nbformat": 4,
  "nbformat_minor": 0,
  "metadata": {
    "colab": {
      "provenance": [],
      "authorship_tag": "ABX9TyOfxdJEcrGQTQ8mwzCgUgCA",
      "include_colab_link": true
    },
    "kernelspec": {
      "name": "python3",
      "display_name": "Python 3"
    },
    "language_info": {
      "name": "python"
    }
  },
  "cells": [
    {
      "cell_type": "markdown",
      "metadata": {
        "id": "view-in-github",
        "colab_type": "text"
      },
      "source": [
        "<a href=\"https://colab.research.google.com/github/ZerXXX0/sales-prediction/blob/main/MLQ_Data_Preprocessing.ipynb\" target=\"_parent\"><img src=\"https://colab.research.google.com/assets/colab-badge.svg\" alt=\"Open In Colab\"/></a>"
      ]
    },
    {
      "cell_type": "code",
      "execution_count": 25,
      "metadata": {
        "id": "XOCdntHvXZ6X"
      },
      "outputs": [],
      "source": [
        "import matplotlib.pyplot as plt\n",
        "import numpy as np\n",
        "import pandas as pd\n",
        "import seaborn as sns"
      ]
    },
    {
      "cell_type": "code",
      "source": [
        "import pandas as pd\n",
        "\n",
        "# Load the CSV files\n",
        "member_df = pd.read_csv(\"https://raw.githubusercontent.com/ZerXXX0/sales-prediction/refs/heads/main/dataset/member_data.csv\")\n",
        "label_df = pd.read_csv(\"https://raw.githubusercontent.com/ZerXXX0/sales-prediction/refs/heads/main/dataset/train_label_data.csv\")\n",
        "transaction_df = pd.read_csv(\"https://raw.githubusercontent.com/ZerXXX0/sales-prediction/refs/heads/main/dataset/train_transaction_data.csv\")\n",
        "\n",
        "# Merge transaction data with member data\n",
        "transaction_member_df = pd.merge(transaction_df, member_df, on=\"MemberID\", how=\"left\")\n",
        "\n",
        "# Merge the above result with label data\n",
        "final_df = pd.merge(transaction_member_df, label_df, on=\"MemberID\", how=\"left\")\n",
        "\n",
        "# Save the final merged DataFrame to a CSV file\n",
        "final_df.to_csv(\"combined_member_transaction_label.csv\", index=False)\n",
        "\n",
        "print(\"CSV file saved as combined_member_transaction_label.csv\")\n"
      ],
      "metadata": {
        "colab": {
          "base_uri": "https://localhost:8080/"
        },
        "id": "-sYhus2aXzeG",
        "outputId": "dfb7791f-d65e-4ad5-bc75-95ae13c526ad"
      },
      "execution_count": 26,
      "outputs": [
        {
          "output_type": "stream",
          "name": "stdout",
          "text": [
            "CSV file saved as combined_member_transaction_label.csv\n"
          ]
        }
      ]
    },
    {
      "cell_type": "code",
      "source": [
        "df = pd.read_csv(\"/content/combined_member_transaction_label.csv\")"
      ],
      "metadata": {
        "id": "Q3Deq8_Wcxk6"
      },
      "execution_count": 27,
      "outputs": []
    },
    {
      "cell_type": "code",
      "source": [
        "df.head()"
      ],
      "metadata": {
        "colab": {
          "base_uri": "https://localhost:8080/",
          "height": 313
        },
        "id": "WeizP4MNc3SQ",
        "outputId": "1f29deb0-6216-4512-b082-ff53edb3f16b"
      },
      "execution_count": 28,
      "outputs": [
        {
          "output_type": "execute_result",
          "data": {
            "text/plain": [
              "                              TransactionID                          MemberID  \\\n",
              "0  ffd6c035bef03a2c386caf2552148fb2402b0b24  7ef72aa51aecb701dc5c4074480fcdf6   \n",
              "1  4fadf10aff7e250cc8d63badeaefdf383c0e1c13  577f1b9a093c2cec6398b1118f5d99ab   \n",
              "2  7299df1aaf47b52017f58dd8e59df1fe37072670  e2ee74f248a74ed886a22f14348fbafd   \n",
              "3  22dae0e1e8bb87601eabd712721bd249739bc620  cefa8ef7469a8b4e6df3f745d4905000   \n",
              "4  6a744d5d79e09b0c1646e604db1c4ec65eff73d7  5eecda17ddf06ed9d79f298b13f84785   \n",
              "\n",
              "      Source  FK_PRODUCT_ID  FK_PROD_GRAM_ID  Qty  PricePerUnit  \\\n",
              "0      ELANG             27               52    1           NaN   \n",
              "1   ALFAMART             22               39    1      290000.0   \n",
              "2     EKTONG             22               39    1      263500.0   \n",
              "3      CITRA             27               52    3      145000.0   \n",
              "4  INDOMARET             27               52    1      165900.0   \n",
              "\n",
              "       TransactionDatetime    JoinDate DateOfBirth      City  NoOfChild  \\\n",
              "0  2020-07-01 07:41:00 UTC  2019-12-24         NaN    BEKASI          1   \n",
              "1  2020-07-01 07:24:00 UTC  2019-08-29         NaN     JAMBI          2   \n",
              "2  2020-07-01 09:13:00 UTC  2018-06-19         NaN   MAKASAR          2   \n",
              "3  2020-07-01 08:28:00 UTC  2019-05-06         NaN  SIDOARJO          1   \n",
              "4  2020-07-01 07:02:00 UTC  2020-05-05         NaN  SUKABUMI          1   \n",
              "\n",
              "  EldestKidDOB YoungestKidDOB  next_buy  \n",
              "0   2017-07-31     2017-07-31         0  \n",
              "1   2017-03-08     2019-01-27         0  \n",
              "2   2017-06-04     2019-04-10         0  \n",
              "3   2016-11-16     2016-11-16         0  \n",
              "4   2018-05-22     2018-05-22         0  "
            ],
            "text/html": [
              "\n",
              "  <div id=\"df-d20bc54f-4b68-4fbd-9ed4-4b29817aa4f7\" class=\"colab-df-container\">\n",
              "    <div>\n",
              "<style scoped>\n",
              "    .dataframe tbody tr th:only-of-type {\n",
              "        vertical-align: middle;\n",
              "    }\n",
              "\n",
              "    .dataframe tbody tr th {\n",
              "        vertical-align: top;\n",
              "    }\n",
              "\n",
              "    .dataframe thead th {\n",
              "        text-align: right;\n",
              "    }\n",
              "</style>\n",
              "<table border=\"1\" class=\"dataframe\">\n",
              "  <thead>\n",
              "    <tr style=\"text-align: right;\">\n",
              "      <th></th>\n",
              "      <th>TransactionID</th>\n",
              "      <th>MemberID</th>\n",
              "      <th>Source</th>\n",
              "      <th>FK_PRODUCT_ID</th>\n",
              "      <th>FK_PROD_GRAM_ID</th>\n",
              "      <th>Qty</th>\n",
              "      <th>PricePerUnit</th>\n",
              "      <th>TransactionDatetime</th>\n",
              "      <th>JoinDate</th>\n",
              "      <th>DateOfBirth</th>\n",
              "      <th>City</th>\n",
              "      <th>NoOfChild</th>\n",
              "      <th>EldestKidDOB</th>\n",
              "      <th>YoungestKidDOB</th>\n",
              "      <th>next_buy</th>\n",
              "    </tr>\n",
              "  </thead>\n",
              "  <tbody>\n",
              "    <tr>\n",
              "      <th>0</th>\n",
              "      <td>ffd6c035bef03a2c386caf2552148fb2402b0b24</td>\n",
              "      <td>7ef72aa51aecb701dc5c4074480fcdf6</td>\n",
              "      <td>ELANG</td>\n",
              "      <td>27</td>\n",
              "      <td>52</td>\n",
              "      <td>1</td>\n",
              "      <td>NaN</td>\n",
              "      <td>2020-07-01 07:41:00 UTC</td>\n",
              "      <td>2019-12-24</td>\n",
              "      <td>NaN</td>\n",
              "      <td>BEKASI</td>\n",
              "      <td>1</td>\n",
              "      <td>2017-07-31</td>\n",
              "      <td>2017-07-31</td>\n",
              "      <td>0</td>\n",
              "    </tr>\n",
              "    <tr>\n",
              "      <th>1</th>\n",
              "      <td>4fadf10aff7e250cc8d63badeaefdf383c0e1c13</td>\n",
              "      <td>577f1b9a093c2cec6398b1118f5d99ab</td>\n",
              "      <td>ALFAMART</td>\n",
              "      <td>22</td>\n",
              "      <td>39</td>\n",
              "      <td>1</td>\n",
              "      <td>290000.0</td>\n",
              "      <td>2020-07-01 07:24:00 UTC</td>\n",
              "      <td>2019-08-29</td>\n",
              "      <td>NaN</td>\n",
              "      <td>JAMBI</td>\n",
              "      <td>2</td>\n",
              "      <td>2017-03-08</td>\n",
              "      <td>2019-01-27</td>\n",
              "      <td>0</td>\n",
              "    </tr>\n",
              "    <tr>\n",
              "      <th>2</th>\n",
              "      <td>7299df1aaf47b52017f58dd8e59df1fe37072670</td>\n",
              "      <td>e2ee74f248a74ed886a22f14348fbafd</td>\n",
              "      <td>EKTONG</td>\n",
              "      <td>22</td>\n",
              "      <td>39</td>\n",
              "      <td>1</td>\n",
              "      <td>263500.0</td>\n",
              "      <td>2020-07-01 09:13:00 UTC</td>\n",
              "      <td>2018-06-19</td>\n",
              "      <td>NaN</td>\n",
              "      <td>MAKASAR</td>\n",
              "      <td>2</td>\n",
              "      <td>2017-06-04</td>\n",
              "      <td>2019-04-10</td>\n",
              "      <td>0</td>\n",
              "    </tr>\n",
              "    <tr>\n",
              "      <th>3</th>\n",
              "      <td>22dae0e1e8bb87601eabd712721bd249739bc620</td>\n",
              "      <td>cefa8ef7469a8b4e6df3f745d4905000</td>\n",
              "      <td>CITRA</td>\n",
              "      <td>27</td>\n",
              "      <td>52</td>\n",
              "      <td>3</td>\n",
              "      <td>145000.0</td>\n",
              "      <td>2020-07-01 08:28:00 UTC</td>\n",
              "      <td>2019-05-06</td>\n",
              "      <td>NaN</td>\n",
              "      <td>SIDOARJO</td>\n",
              "      <td>1</td>\n",
              "      <td>2016-11-16</td>\n",
              "      <td>2016-11-16</td>\n",
              "      <td>0</td>\n",
              "    </tr>\n",
              "    <tr>\n",
              "      <th>4</th>\n",
              "      <td>6a744d5d79e09b0c1646e604db1c4ec65eff73d7</td>\n",
              "      <td>5eecda17ddf06ed9d79f298b13f84785</td>\n",
              "      <td>INDOMARET</td>\n",
              "      <td>27</td>\n",
              "      <td>52</td>\n",
              "      <td>1</td>\n",
              "      <td>165900.0</td>\n",
              "      <td>2020-07-01 07:02:00 UTC</td>\n",
              "      <td>2020-05-05</td>\n",
              "      <td>NaN</td>\n",
              "      <td>SUKABUMI</td>\n",
              "      <td>1</td>\n",
              "      <td>2018-05-22</td>\n",
              "      <td>2018-05-22</td>\n",
              "      <td>0</td>\n",
              "    </tr>\n",
              "  </tbody>\n",
              "</table>\n",
              "</div>\n",
              "    <div class=\"colab-df-buttons\">\n",
              "\n",
              "  <div class=\"colab-df-container\">\n",
              "    <button class=\"colab-df-convert\" onclick=\"convertToInteractive('df-d20bc54f-4b68-4fbd-9ed4-4b29817aa4f7')\"\n",
              "            title=\"Convert this dataframe to an interactive table.\"\n",
              "            style=\"display:none;\">\n",
              "\n",
              "  <svg xmlns=\"http://www.w3.org/2000/svg\" height=\"24px\" viewBox=\"0 -960 960 960\">\n",
              "    <path d=\"M120-120v-720h720v720H120Zm60-500h600v-160H180v160Zm220 220h160v-160H400v160Zm0 220h160v-160H400v160ZM180-400h160v-160H180v160Zm440 0h160v-160H620v160ZM180-180h160v-160H180v160Zm440 0h160v-160H620v160Z\"/>\n",
              "  </svg>\n",
              "    </button>\n",
              "\n",
              "  <style>\n",
              "    .colab-df-container {\n",
              "      display:flex;\n",
              "      gap: 12px;\n",
              "    }\n",
              "\n",
              "    .colab-df-convert {\n",
              "      background-color: #E8F0FE;\n",
              "      border: none;\n",
              "      border-radius: 50%;\n",
              "      cursor: pointer;\n",
              "      display: none;\n",
              "      fill: #1967D2;\n",
              "      height: 32px;\n",
              "      padding: 0 0 0 0;\n",
              "      width: 32px;\n",
              "    }\n",
              "\n",
              "    .colab-df-convert:hover {\n",
              "      background-color: #E2EBFA;\n",
              "      box-shadow: 0px 1px 2px rgba(60, 64, 67, 0.3), 0px 1px 3px 1px rgba(60, 64, 67, 0.15);\n",
              "      fill: #174EA6;\n",
              "    }\n",
              "\n",
              "    .colab-df-buttons div {\n",
              "      margin-bottom: 4px;\n",
              "    }\n",
              "\n",
              "    [theme=dark] .colab-df-convert {\n",
              "      background-color: #3B4455;\n",
              "      fill: #D2E3FC;\n",
              "    }\n",
              "\n",
              "    [theme=dark] .colab-df-convert:hover {\n",
              "      background-color: #434B5C;\n",
              "      box-shadow: 0px 1px 3px 1px rgba(0, 0, 0, 0.15);\n",
              "      filter: drop-shadow(0px 1px 2px rgba(0, 0, 0, 0.3));\n",
              "      fill: #FFFFFF;\n",
              "    }\n",
              "  </style>\n",
              "\n",
              "    <script>\n",
              "      const buttonEl =\n",
              "        document.querySelector('#df-d20bc54f-4b68-4fbd-9ed4-4b29817aa4f7 button.colab-df-convert');\n",
              "      buttonEl.style.display =\n",
              "        google.colab.kernel.accessAllowed ? 'block' : 'none';\n",
              "\n",
              "      async function convertToInteractive(key) {\n",
              "        const element = document.querySelector('#df-d20bc54f-4b68-4fbd-9ed4-4b29817aa4f7');\n",
              "        const dataTable =\n",
              "          await google.colab.kernel.invokeFunction('convertToInteractive',\n",
              "                                                    [key], {});\n",
              "        if (!dataTable) return;\n",
              "\n",
              "        const docLinkHtml = 'Like what you see? Visit the ' +\n",
              "          '<a target=\"_blank\" href=https://colab.research.google.com/notebooks/data_table.ipynb>data table notebook</a>'\n",
              "          + ' to learn more about interactive tables.';\n",
              "        element.innerHTML = '';\n",
              "        dataTable['output_type'] = 'display_data';\n",
              "        await google.colab.output.renderOutput(dataTable, element);\n",
              "        const docLink = document.createElement('div');\n",
              "        docLink.innerHTML = docLinkHtml;\n",
              "        element.appendChild(docLink);\n",
              "      }\n",
              "    </script>\n",
              "  </div>\n",
              "\n",
              "\n",
              "    <div id=\"df-0da090fb-b2e4-4896-977c-e67504b38230\">\n",
              "      <button class=\"colab-df-quickchart\" onclick=\"quickchart('df-0da090fb-b2e4-4896-977c-e67504b38230')\"\n",
              "                title=\"Suggest charts\"\n",
              "                style=\"display:none;\">\n",
              "\n",
              "<svg xmlns=\"http://www.w3.org/2000/svg\" height=\"24px\"viewBox=\"0 0 24 24\"\n",
              "     width=\"24px\">\n",
              "    <g>\n",
              "        <path d=\"M19 3H5c-1.1 0-2 .9-2 2v14c0 1.1.9 2 2 2h14c1.1 0 2-.9 2-2V5c0-1.1-.9-2-2-2zM9 17H7v-7h2v7zm4 0h-2V7h2v10zm4 0h-2v-4h2v4z\"/>\n",
              "    </g>\n",
              "</svg>\n",
              "      </button>\n",
              "\n",
              "<style>\n",
              "  .colab-df-quickchart {\n",
              "      --bg-color: #E8F0FE;\n",
              "      --fill-color: #1967D2;\n",
              "      --hover-bg-color: #E2EBFA;\n",
              "      --hover-fill-color: #174EA6;\n",
              "      --disabled-fill-color: #AAA;\n",
              "      --disabled-bg-color: #DDD;\n",
              "  }\n",
              "\n",
              "  [theme=dark] .colab-df-quickchart {\n",
              "      --bg-color: #3B4455;\n",
              "      --fill-color: #D2E3FC;\n",
              "      --hover-bg-color: #434B5C;\n",
              "      --hover-fill-color: #FFFFFF;\n",
              "      --disabled-bg-color: #3B4455;\n",
              "      --disabled-fill-color: #666;\n",
              "  }\n",
              "\n",
              "  .colab-df-quickchart {\n",
              "    background-color: var(--bg-color);\n",
              "    border: none;\n",
              "    border-radius: 50%;\n",
              "    cursor: pointer;\n",
              "    display: none;\n",
              "    fill: var(--fill-color);\n",
              "    height: 32px;\n",
              "    padding: 0;\n",
              "    width: 32px;\n",
              "  }\n",
              "\n",
              "  .colab-df-quickchart:hover {\n",
              "    background-color: var(--hover-bg-color);\n",
              "    box-shadow: 0 1px 2px rgba(60, 64, 67, 0.3), 0 1px 3px 1px rgba(60, 64, 67, 0.15);\n",
              "    fill: var(--button-hover-fill-color);\n",
              "  }\n",
              "\n",
              "  .colab-df-quickchart-complete:disabled,\n",
              "  .colab-df-quickchart-complete:disabled:hover {\n",
              "    background-color: var(--disabled-bg-color);\n",
              "    fill: var(--disabled-fill-color);\n",
              "    box-shadow: none;\n",
              "  }\n",
              "\n",
              "  .colab-df-spinner {\n",
              "    border: 2px solid var(--fill-color);\n",
              "    border-color: transparent;\n",
              "    border-bottom-color: var(--fill-color);\n",
              "    animation:\n",
              "      spin 1s steps(1) infinite;\n",
              "  }\n",
              "\n",
              "  @keyframes spin {\n",
              "    0% {\n",
              "      border-color: transparent;\n",
              "      border-bottom-color: var(--fill-color);\n",
              "      border-left-color: var(--fill-color);\n",
              "    }\n",
              "    20% {\n",
              "      border-color: transparent;\n",
              "      border-left-color: var(--fill-color);\n",
              "      border-top-color: var(--fill-color);\n",
              "    }\n",
              "    30% {\n",
              "      border-color: transparent;\n",
              "      border-left-color: var(--fill-color);\n",
              "      border-top-color: var(--fill-color);\n",
              "      border-right-color: var(--fill-color);\n",
              "    }\n",
              "    40% {\n",
              "      border-color: transparent;\n",
              "      border-right-color: var(--fill-color);\n",
              "      border-top-color: var(--fill-color);\n",
              "    }\n",
              "    60% {\n",
              "      border-color: transparent;\n",
              "      border-right-color: var(--fill-color);\n",
              "    }\n",
              "    80% {\n",
              "      border-color: transparent;\n",
              "      border-right-color: var(--fill-color);\n",
              "      border-bottom-color: var(--fill-color);\n",
              "    }\n",
              "    90% {\n",
              "      border-color: transparent;\n",
              "      border-bottom-color: var(--fill-color);\n",
              "    }\n",
              "  }\n",
              "</style>\n",
              "\n",
              "      <script>\n",
              "        async function quickchart(key) {\n",
              "          const quickchartButtonEl =\n",
              "            document.querySelector('#' + key + ' button');\n",
              "          quickchartButtonEl.disabled = true;  // To prevent multiple clicks.\n",
              "          quickchartButtonEl.classList.add('colab-df-spinner');\n",
              "          try {\n",
              "            const charts = await google.colab.kernel.invokeFunction(\n",
              "                'suggestCharts', [key], {});\n",
              "          } catch (error) {\n",
              "            console.error('Error during call to suggestCharts:', error);\n",
              "          }\n",
              "          quickchartButtonEl.classList.remove('colab-df-spinner');\n",
              "          quickchartButtonEl.classList.add('colab-df-quickchart-complete');\n",
              "        }\n",
              "        (() => {\n",
              "          let quickchartButtonEl =\n",
              "            document.querySelector('#df-0da090fb-b2e4-4896-977c-e67504b38230 button');\n",
              "          quickchartButtonEl.style.display =\n",
              "            google.colab.kernel.accessAllowed ? 'block' : 'none';\n",
              "        })();\n",
              "      </script>\n",
              "    </div>\n",
              "\n",
              "    </div>\n",
              "  </div>\n"
            ],
            "application/vnd.google.colaboratory.intrinsic+json": {
              "type": "dataframe",
              "variable_name": "df"
            }
          },
          "metadata": {},
          "execution_count": 28
        }
      ]
    },
    {
      "cell_type": "code",
      "source": [
        "sns.countplot(data=df, x='next_buy')\n",
        "plt.title('Distribution of Next Buy Labels')\n",
        "plt.xlabel('Next Buy (0 = No, 1 = Yes)')\n",
        "plt.ylabel('Count')\n",
        "plt.show()"
      ],
      "metadata": {
        "colab": {
          "base_uri": "https://localhost:8080/",
          "height": 472
        },
        "id": "0OSts9kEdhZB",
        "outputId": "47e96bc8-0e81-4276-9ac7-cf8950fd003c"
      },
      "execution_count": 29,
      "outputs": [
        {
          "output_type": "display_data",
          "data": {
            "text/plain": [
              "<Figure size 640x480 with 1 Axes>"
            ],
            "image/png": "[encoded data removed]"
          },
          "metadata": {}
        }
      ]
    },
    {
      "cell_type": "code",
      "source": [
        "df.info()"
      ],
      "metadata": {
        "colab": {
          "base_uri": "https://localhost:8080/"
        },
        "id": "89_MpMUdfGqe",
        "outputId": "696c29b9-5541-489f-bc26-5ae94b44dcbc"
      },
      "execution_count": 30,
      "outputs": [
        {
          "output_type": "stream",
          "name": "stdout",
          "text": [
            "<class 'pandas.core.frame.DataFrame'>\n",
            "RangeIndex: 130854 entries, 0 to 130853\n",
            "Data columns (total 15 columns):\n",
            " #   Column               Non-Null Count   Dtype  \n",
            "---  ------               --------------   -----  \n",
            " 0   TransactionID        130854 non-null  object \n",
            " 1   MemberID             130854 non-null  object \n",
            " 2   Source               130854 non-null  object \n",
            " 3   FK_PRODUCT_ID        130854 non-null  int64  \n",
            " 4   FK_PROD_GRAM_ID      130854 non-null  int64  \n",
            " 5   Qty                  130854 non-null  int64  \n",
            " 6   PricePerUnit         111681 non-null  float64\n",
            " 7   TransactionDatetime  130854 non-null  object \n",
            " 8   JoinDate             130854 non-null  object \n",
            " 9   DateOfBirth          6692 non-null    object \n",
            " 10  City                 130854 non-null  object \n",
            " 11  NoOfChild            130854 non-null  int64  \n",
            " 12  EldestKidDOB         130854 non-null  object \n",
            " 13  YoungestKidDOB       130854 non-null  object \n",
            " 14  next_buy             130854 non-null  int64  \n",
            "dtypes: float64(1), int64(5), object(9)\n",
            "memory usage: 15.0+ MB\n"
          ]
        }
      ]
    },
    {
      "cell_type": "markdown",
      "source": [
        "Preprocessing"
      ],
      "metadata": {
        "id": "PSQWHz8-nkdN"
      }
    },
    {
      "cell_type": "code",
      "source": [
        "pip install category_encoders"
      ],
      "metadata": {
        "colab": {
          "base_uri": "https://localhost:8080/"
        },
        "id": "TBVL9aYmUGad",
        "outputId": "d7fabd3f-b271-4f92-d542-414319054802"
      },
      "execution_count": 7,
      "outputs": [
        {
          "output_type": "stream",
          "name": "stdout",
          "text": [
            "Collecting category_encoders\n",
            "  Downloading category_encoders-2.8.1-py3-none-any.whl.metadata (7.9 kB)\n",
            "Requirement already satisfied: numpy>=1.14.0 in /usr/local/lib/python3.11/dist-packages (from category_encoders) (2.0.2)\n",
            "Requirement already satisfied: pandas>=1.0.5 in /usr/local/lib/python3.11/dist-packages (from category_encoders) (2.2.2)\n",
            "Requirement already satisfied: patsy>=0.5.1 in /usr/local/lib/python3.11/dist-packages (from category_encoders) (1.0.1)\n",
            "Requirement already satisfied: scikit-learn>=1.6.0 in /usr/local/lib/python3.11/dist-packages (from category_encoders) (1.6.1)\n",
            "Requirement already satisfied: scipy>=1.0.0 in /usr/local/lib/python3.11/dist-packages (from category_encoders) (1.15.3)\n",
            "Requirement already satisfied: statsmodels>=0.9.0 in /usr/local/lib/python3.11/dist-packages (from category_encoders) (0.14.4)\n",
            "Requirement already satisfied: python-dateutil>=2.8.2 in /usr/local/lib/python3.11/dist-packages (from pandas>=1.0.5->category_encoders) (2.9.0.post0)\n",
            "Requirement already satisfied: pytz>=2020.1 in /usr/local/lib/python3.11/dist-packages (from pandas>=1.0.5->category_encoders) (2025.2)\n",
            "Requirement already satisfied: tzdata>=2022.7 in /usr/local/lib/python3.11/dist-packages (from pandas>=1.0.5->category_encoders) (2025.2)\n",
            "Requirement already satisfied: joblib>=1.2.0 in /usr/local/lib/python3.11/dist-packages (from scikit-learn>=1.6.0->category_encoders) (1.5.1)\n",
            "Requirement already satisfied: threadpoolctl>=3.1.0 in /usr/local/lib/python3.11/dist-packages (from scikit-learn>=1.6.0->category_encoders) (3.6.0)\n",
            "Requirement already satisfied: packaging>=21.3 in /usr/local/lib/python3.11/dist-packages (from statsmodels>=0.9.0->category_encoders) (24.2)\n",
            "Requirement already satisfied: six>=1.5 in /usr/local/lib/python3.11/dist-packages (from python-dateutil>=2.8.2->pandas>=1.0.5->category_encoders) (1.17.0)\n",
            "Downloading category_encoders-2.8.1-py3-none-any.whl (85 kB)\n",
            "\u001b[2K   \u001b[90m━━━━━━━━━━━━━━━━━━━━━━━━━━━━━━━━━━━━━━━━\u001b[0m \u001b[32m85.7/85.7 kB\u001b[0m \u001b[31m2.1 MB/s\u001b[0m eta \u001b[36m0:00:00\u001b[0m\n",
            "\u001b[?25hInstalling collected packages: category_encoders\n",
            "Successfully installed category_encoders-2.8.1\n"
          ]
        }
      ]
    },
    {
      "cell_type": "code",
      "source": [
        "import category_encoders as ce\n",
        "\n",
        "# Define encoder\n",
        "encoder = ce.TargetEncoder(cols=['Source'])\n",
        "\n",
        "# Fit encoder on training data only\n",
        "encoder.fit(df['Source'], df['next_buy'])\n",
        "\n",
        "# Transform both training and validation using the encoder\n",
        "df['Source_encoded'] = encoder.transform(df['Source'])"
      ],
      "metadata": {
        "id": "pZLuLQxGTxeb"
      },
      "execution_count": 31,
      "outputs": []
    },
    {
      "cell_type": "code",
      "source": [
        "import category_encoders as ce\n",
        "\n",
        "# Define encoder\n",
        "encoder = ce.TargetEncoder(cols=['City'])\n",
        "\n",
        "# Fit encoder on training data only\n",
        "encoder.fit(df['City'], df['next_buy'])\n",
        "\n",
        "# Transform both training and validation using the encoder\n",
        "df['City_encoded'] = encoder.transform(df['City'])"
      ],
      "metadata": {
        "id": "K90vSEFovvWB"
      },
      "execution_count": 32,
      "outputs": []
    },
    {
      "cell_type": "code",
      "source": [
        "import category_encoders as ce\n",
        "\n",
        "# Define encoder\n",
        "encoder = ce.TargetEncoder(cols=['FK_PRODUCT_ID'])\n",
        "\n",
        "# Fit encoder on training data only\n",
        "encoder.fit(df['FK_PRODUCT_ID'], df['next_buy'])\n",
        "\n",
        "# Transform both training and validation using the encoder\n",
        "df['FK_PRODUCT_ID_encoded'] = encoder.transform(df['FK_PRODUCT_ID'])"
      ],
      "metadata": {
        "id": "bH1xmGD-hE4a"
      },
      "execution_count": 33,
      "outputs": []
    },
    {
      "cell_type": "code",
      "source": [
        "import category_encoders as ce\n",
        "\n",
        "# Define encoder\n",
        "encoder = ce.TargetEncoder(cols=['FK_PROD_GRAM_ID'])\n",
        "\n",
        "# Fit encoder on training data only\n",
        "encoder.fit(df['FK_PROD_GRAM_ID'], df['next_buy'])\n",
        "\n",
        "# Transform both training and validation using the encoder\n",
        "df['FK_PROD_GRAM_ID_encoded'] = encoder.transform(df['FK_PROD_GRAM_ID'])"
      ],
      "metadata": {
        "id": "hAnQHUhGwEni"
      },
      "execution_count": 34,
      "outputs": []
    },
    {
      "cell_type": "code",
      "source": [
        "# prompt: encode the YoungestKidDOB column to integer of days since year 2000\n",
        "\n",
        "import pandas as pd\n",
        "# Convert 'YoungestKidDOB' to datetime, coercing errors\n",
        "df['YoungestKidDOB'] = pd.to_datetime(df['YoungestKidDOB'], errors='coerce')\n",
        "\n",
        "# Define the base date (January 1, 2000)\n",
        "base_date = pd.to_datetime('2000-01-01')\n",
        "\n",
        "# Calculate the difference in days and encode\n",
        "df['YoungestKidDOB_encoded'] = (df['YoungestKidDOB'] - base_date).dt.days\n",
        "\n",
        "# Display the first few rows with the new column\n",
        "print(df[['YoungestKidDOB', 'YoungestKidDOB_encoded']].head())"
      ],
      "metadata": {
        "colab": {
          "base_uri": "https://localhost:8080/"
        },
        "id": "7AJu3Om3qas_",
        "outputId": "de6b58cd-2dc0-44ab-91ab-1da066b4585b"
      },
      "execution_count": 35,
      "outputs": [
        {
          "output_type": "stream",
          "name": "stdout",
          "text": [
            "  YoungestKidDOB  YoungestKidDOB_encoded\n",
            "0     2017-07-31                    6421\n",
            "1     2019-01-27                    6966\n",
            "2     2019-04-10                    7039\n",
            "3     2016-11-16                    6164\n",
            "4     2018-05-22                    6716\n"
          ]
        }
      ]
    },
    {
      "cell_type": "code",
      "source": [
        "# Drop the 'MemberID' column as it is not needed for modeling\n",
        "df = df.drop('DateOfBirth', axis=1)\n",
        "df = df.drop('TransactionDatetime', axis=1)\n",
        "df = df.drop('JoinDate', axis=1)\n",
        "df = df.drop('EldestKidDOB', axis=1)\n",
        "df = df.drop('YoungestKidDOB', axis=1)"
      ],
      "metadata": {
        "id": "Xx9Xg0eWLojP"
      },
      "execution_count": 36,
      "outputs": []
    },
    {
      "cell_type": "code",
      "source": [
        "df = df.drop('Source', axis=1)\n",
        "df = df.drop('City', axis=1)"
      ],
      "metadata": {
        "id": "Q0VlLmFrVCYD"
      },
      "execution_count": 12,
      "outputs": []
    },
    {
      "cell_type": "code",
      "source": [
        "df = df.drop('FK_PRODUCT_ID', axis=1)\n",
        "df = df.drop('FK_PROD_GRAM_ID', axis=1)"
      ],
      "metadata": {
        "id": "rHD8R_C7wVR-"
      },
      "execution_count": 20,
      "outputs": []
    },
    {
      "cell_type": "code",
      "source": [
        "# prompt: make next_buy as the last column instead of YoungestKidDOB_normalized\n",
        "\n",
        "# Move 'next_buy' to the last column\n",
        "next_buy_column = df.pop('next_buy')\n",
        "df['next_buy'] = next_buy_column"
      ],
      "metadata": {
        "id": "6W7qR9S4PHTX"
      },
      "execution_count": 37,
      "outputs": []
    },
    {
      "cell_type": "code",
      "source": [
        "df.info()"
      ],
      "metadata": {
        "colab": {
          "base_uri": "https://localhost:8080/"
        },
        "id": "RgXj43LQUyHt",
        "outputId": "9b5b46d1-198e-4b57-eb86-5cdc48f3579d"
      },
      "execution_count": 38,
      "outputs": [
        {
          "output_type": "stream",
          "name": "stdout",
          "text": [
            "<class 'pandas.core.frame.DataFrame'>\n",
            "RangeIndex: 130854 entries, 0 to 130853\n",
            "Data columns (total 15 columns):\n",
            " #   Column                   Non-Null Count   Dtype  \n",
            "---  ------                   --------------   -----  \n",
            " 0   TransactionID            130854 non-null  object \n",
            " 1   MemberID                 130854 non-null  object \n",
            " 2   Source                   130854 non-null  object \n",
            " 3   FK_PRODUCT_ID            130854 non-null  int64  \n",
            " 4   FK_PROD_GRAM_ID          130854 non-null  int64  \n",
            " 5   Qty                      130854 non-null  int64  \n",
            " 6   PricePerUnit             111681 non-null  float64\n",
            " 7   City                     130854 non-null  object \n",
            " 8   NoOfChild                130854 non-null  int64  \n",
            " 9   Source_encoded           130854 non-null  float64\n",
            " 10  City_encoded             130854 non-null  float64\n",
            " 11  FK_PRODUCT_ID_encoded    130854 non-null  float64\n",
            " 12  FK_PROD_GRAM_ID_encoded  130854 non-null  float64\n",
            " 13  YoungestKidDOB_encoded   130854 non-null  int64  \n",
            " 14  next_buy                 130854 non-null  int64  \n",
            "dtypes: float64(5), int64(6), object(4)\n",
            "memory usage: 15.0+ MB\n"
          ]
        }
      ]
    },
    {
      "cell_type": "markdown",
      "source": [
        "Visualization after Preprocessing"
      ],
      "metadata": {
        "id": "ZeS1u5cmnpbt"
      }
    },
    {
      "cell_type": "code",
      "source": [
        "# prompt: make correlation heatmap for each column, except TransactionID and MemberID\n",
        "\n",
        "import matplotlib.pyplot as plt\n",
        "# Calculate the correlation matrix, excluding 'TransactionID' and 'MemberID'\n",
        "correlation_matrix = df.drop(['TransactionID', 'MemberID', 'FK_PRODUCT_ID', 'FK_PROD_GRAM_ID', 'City', 'Source'], axis=1).corr()\n",
        "\n",
        "# Plot the heatmap\n",
        "plt.figure(figsize=(12, 10))\n",
        "sns.heatmap(correlation_matrix, annot=True, cmap='coolwarm', fmt=\".2f\")\n",
        "plt.title('Correlation Heatmap (excluding TransactionID and MemberID)')\n",
        "plt.show()"
      ],
      "metadata": {
        "colab": {
          "base_uri": "https://localhost:8080/",
          "height": 1000
        },
        "id": "KQ-n7GqxM8ZL",
        "outputId": "c572dce1-ba94-4930-896a-ea071fbd3a41"
      },
      "execution_count": 40,
      "outputs": [
        {
          "output_type": "display_data",
          "data": {
            "text/plain": [
              "<Figure size 1200x1000 with 2 Axes>"
            ],
            "image/png": "[encoded data removed]"
          },
          "metadata": {}
        }
      ]
    },
    {
      "cell_type": "code",
      "source": [
        "df.to_csv(\"new_train_feature_still_existed.csv\")"
      ],
      "metadata": {
        "id": "yYZMXu3UfR_G"
      },
      "execution_count": 42,
      "outputs": []
    },
    {
      "cell_type": "markdown",
      "source": [
        "Machine Learning"
      ],
      "metadata": {
        "id": "VmAC9zhSMvVB"
      }
    },
    {
      "cell_type": "code",
      "source": [
        "test_transaction_df = pd.read_csv(\"https://raw.githubusercontent.com/ZerXXX0/sales-prediction/refs/heads/main/dataset/test_transaction_data.csv\")\n",
        "member_df = pd.read_csv(\"https://raw.githubusercontent.com/ZerXXX0/sales-prediction/refs/heads/main/dataset/member_data.csv\")\n",
        "\n",
        "test_df = pd.merge(test_transaction_df, member_df, on=\"MemberID\", how=\"left\")\n",
        "test_df.to_csv(\"test_unnormalized.csv\", index=False)"
      ],
      "metadata": {
        "id": "HCvknxWxrfRr"
      },
      "execution_count": 45,
      "outputs": []
    },
    {
      "cell_type": "code",
      "source": [
        "test_df = pd.read_csv(\"/content/test_unnormalized.csv\")"
      ],
      "metadata": {
        "id": "d7JKiCoQz96C"
      },
      "execution_count": 46,
      "outputs": []
    },
    {
      "cell_type": "code",
      "source": [
        "test_df.head()"
      ],
      "metadata": {
        "colab": {
          "base_uri": "https://localhost:8080/",
          "height": 313
        },
        "id": "3QNPH8Ux0YNf",
        "outputId": "b46a61e3-c69b-4a5f-fea4-d80896fcd1f8"
      },
      "execution_count": 47,
      "outputs": [
        {
          "output_type": "execute_result",
          "data": {
            "text/plain": [
              "                              TransactionID                          MemberID  \\\n",
              "0  5f57263c9b0b2b3e3d7c404510dd59060999115a  c2a630e3d0dc77dac0f63424a9ae1438   \n",
              "1  b0c438ae346e794fef83c63a9ce17d6df73da233  3ecf7484c08418953e967a20de37051b   \n",
              "2  7e2498fc518f0b1489982848a29dc2677ec31367  97bbd6c99a862f20657d9b2b1c77b2c8   \n",
              "3  aaa52daf4ca3b8befcbe01362d8219f67293bf45  3ce072ff9c6f2f4b7c95dbc08324a24d   \n",
              "4  4ec62459fb8d83062284e32f3c7b5af125d242b1  ab0b0de2a1c85a40b5d58644aef745c0   \n",
              "\n",
              "      Source  FK_PRODUCT_ID  FK_PROD_GRAM_ID  Qty  PricePerUnit  \\\n",
              "0   ALFAMART             27               52    1      165300.0   \n",
              "1   ALFAMART             27               52    1      165300.0   \n",
              "2   ALFAMART             27               52    1      165300.0   \n",
              "3  INDOMARET             26               49    1           NaN   \n",
              "4   ALFAMART             26               49    2       85500.0   \n",
              "\n",
              "       TransactionDatetime    JoinDate DateOfBirth       City  NoOfChild  \\\n",
              "0  2020-07-01 06:09:00 UTC  2019-12-11         NaN     MADIUN          1   \n",
              "1  2020-07-01 10:13:00 UTC  2020-01-22         NaN    KEBUMEN          1   \n",
              "2  2020-07-01 09:27:00 UTC  2019-01-02  1979-10-10      BOGOR          2   \n",
              "3  2020-07-01 11:04:00 UTC  2019-08-13         NaN  PALEMBANG          1   \n",
              "4  2020-07-01 09:24:00 UTC  2019-04-06         NaN   SURABAYA          2   \n",
              "\n",
              "  EldestKidDOB YoungestKidDOB  \n",
              "0   2018-07-04     2018-07-04  \n",
              "1   2018-12-21     2018-12-21  \n",
              "2   2017-10-19     2018-12-17  \n",
              "3   2017-06-17     2017-06-17  \n",
              "4   2010-06-18     2015-05-14  "
            ],
            "text/html": [
              "\n",
              "  <div id=\"df-0d51dfb5-0e97-4a67-980a-cc8826402f62\" class=\"colab-df-container\">\n",
              "    <div>\n",
              "<style scoped>\n",
              "    .dataframe tbody tr th:only-of-type {\n",
              "        vertical-align: middle;\n",
              "    }\n",
              "\n",
              "    .dataframe tbody tr th {\n",
              "        vertical-align: top;\n",
              "    }\n",
              "\n",
              "    .dataframe thead th {\n",
              "        text-align: right;\n",
              "    }\n",
              "</style>\n",
              "<table border=\"1\" class=\"dataframe\">\n",
              "  <thead>\n",
              "    <tr style=\"text-align: right;\">\n",
              "      <th></th>\n",
              "      <th>TransactionID</th>\n",
              "      <th>MemberID</th>\n",
              "      <th>Source</th>\n",
              "      <th>FK_PRODUCT_ID</th>\n",
              "      <th>FK_PROD_GRAM_ID</th>\n",
              "      <th>Qty</th>\n",
              "      <th>PricePerUnit</th>\n",
              "      <th>TransactionDatetime</th>\n",
              "      <th>JoinDate</th>\n",
              "      <th>DateOfBirth</th>\n",
              "      <th>City</th>\n",
              "      <th>NoOfChild</th>\n",
              "      <th>EldestKidDOB</th>\n",
              "      <th>YoungestKidDOB</th>\n",
              "    </tr>\n",
              "  </thead>\n",
              "  <tbody>\n",
              "    <tr>\n",
              "      <th>0</th>\n",
              "      <td>5f57263c9b0b2b3e3d7c404510dd59060999115a</td>\n",
              "      <td>c2a630e3d0dc77dac0f63424a9ae1438</td>\n",
              "      <td>ALFAMART</td>\n",
              "      <td>27</td>\n",
              "      <td>52</td>\n",
              "      <td>1</td>\n",
              "      <td>165300.0</td>\n",
              "      <td>2020-07-01 06:09:00 UTC</td>\n",
              "      <td>2019-12-11</td>\n",
              "      <td>NaN</td>\n",
              "      <td>MADIUN</td>\n",
              "      <td>1</td>\n",
              "      <td>2018-07-04</td>\n",
              "      <td>2018-07-04</td>\n",
              "    </tr>\n",
              "    <tr>\n",
              "      <th>1</th>\n",
              "      <td>b0c438ae346e794fef83c63a9ce17d6df73da233</td>\n",
              "      <td>3ecf7484c08418953e967a20de37051b</td>\n",
              "      <td>ALFAMART</td>\n",
              "      <td>27</td>\n",
              "      <td>52</td>\n",
              "      <td>1</td>\n",
              "      <td>165300.0</td>\n",
              "      <td>2020-07-01 10:13:00 UTC</td>\n",
              "      <td>2020-01-22</td>\n",
              "      <td>NaN</td>\n",
              "      <td>KEBUMEN</td>\n",
              "      <td>1</td>\n",
              "      <td>2018-12-21</td>\n",
              "      <td>2018-12-21</td>\n",
              "    </tr>\n",
              "    <tr>\n",
              "      <th>2</th>\n",
              "      <td>7e2498fc518f0b1489982848a29dc2677ec31367</td>\n",
              "      <td>97bbd6c99a862f20657d9b2b1c77b2c8</td>\n",
              "      <td>ALFAMART</td>\n",
              "      <td>27</td>\n",
              "      <td>52</td>\n",
              "      <td>1</td>\n",
              "      <td>165300.0</td>\n",
              "      <td>2020-07-01 09:27:00 UTC</td>\n",
              "      <td>2019-01-02</td>\n",
              "      <td>1979-10-10</td>\n",
              "      <td>BOGOR</td>\n",
              "      <td>2</td>\n",
              "      <td>2017-10-19</td>\n",
              "      <td>2018-12-17</td>\n",
              "    </tr>\n",
              "    <tr>\n",
              "      <th>3</th>\n",
              "      <td>aaa52daf4ca3b8befcbe01362d8219f67293bf45</td>\n",
              "      <td>3ce072ff9c6f2f4b7c95dbc08324a24d</td>\n",
              "      <td>INDOMARET</td>\n",
              "      <td>26</td>\n",
              "      <td>49</td>\n",
              "      <td>1</td>\n",
              "      <td>NaN</td>\n",
              "      <td>2020-07-01 11:04:00 UTC</td>\n",
              "      <td>2019-08-13</td>\n",
              "      <td>NaN</td>\n",
              "      <td>PALEMBANG</td>\n",
              "      <td>1</td>\n",
              "      <td>2017-06-17</td>\n",
              "      <td>2017-06-17</td>\n",
              "    </tr>\n",
              "    <tr>\n",
              "      <th>4</th>\n",
              "      <td>4ec62459fb8d83062284e32f3c7b5af125d242b1</td>\n",
              "      <td>ab0b0de2a1c85a40b5d58644aef745c0</td>\n",
              "      <td>ALFAMART</td>\n",
              "      <td>26</td>\n",
              "      <td>49</td>\n",
              "      <td>2</td>\n",
              "      <td>85500.0</td>\n",
              "      <td>2020-07-01 09:24:00 UTC</td>\n",
              "      <td>2019-04-06</td>\n",
              "      <td>NaN</td>\n",
              "      <td>SURABAYA</td>\n",
              "      <td>2</td>\n",
              "      <td>2010-06-18</td>\n",
              "      <td>2015-05-14</td>\n",
              "    </tr>\n",
              "  </tbody>\n",
              "</table>\n",
              "</div>\n",
              "    <div class=\"colab-df-buttons\">\n",
              "\n",
              "  <div class=\"colab-df-container\">\n",
              "    <button class=\"colab-df-convert\" onclick=\"convertToInteractive('df-0d51dfb5-0e97-4a67-980a-cc8826402f62')\"\n",
              "            title=\"Convert this dataframe to an interactive table.\"\n",
              "            style=\"display:none;\">\n",
              "\n",
              "  <svg xmlns=\"http://www.w3.org/2000/svg\" height=\"24px\" viewBox=\"0 -960 960 960\">\n",
              "    <path d=\"M120-120v-720h720v720H120Zm60-500h600v-160H180v160Zm220 220h160v-160H400v160Zm0 220h160v-160H400v160ZM180-400h160v-160H180v160Zm440 0h160v-160H620v160ZM180-180h160v-160H180v160Zm440 0h160v-160H620v160Z\"/>\n",
              "  </svg>\n",
              "    </button>\n",
              "\n",
              "  <style>\n",
              "    .colab-df-container {\n",
              "      display:flex;\n",
              "      gap: 12px;\n",
              "    }\n",
              "\n",
              "    .colab-df-convert {\n",
              "      background-color: #E8F0FE;\n",
              "      border: none;\n",
              "      border-radius: 50%;\n",
              "      cursor: pointer;\n",
              "      display: none;\n",
              "      fill: #1967D2;\n",
              "      height: 32px;\n",
              "      padding: 0 0 0 0;\n",
              "      width: 32px;\n",
              "    }\n",
              "\n",
              "    .colab-df-convert:hover {\n",
              "      background-color: #E2EBFA;\n",
              "      box-shadow: 0px 1px 2px rgba(60, 64, 67, 0.3), 0px 1px 3px 1px rgba(60, 64, 67, 0.15);\n",
              "      fill: #174EA6;\n",
              "    }\n",
              "\n",
              "    .colab-df-buttons div {\n",
              "      margin-bottom: 4px;\n",
              "    }\n",
              "\n",
              "    [theme=dark] .colab-df-convert {\n",
              "      background-color: #3B4455;\n",
              "      fill: #D2E3FC;\n",
              "    }\n",
              "\n",
              "    [theme=dark] .colab-df-convert:hover {\n",
              "      background-color: #434B5C;\n",
              "      box-shadow: 0px 1px 3px 1px rgba(0, 0, 0, 0.15);\n",
              "      filter: drop-shadow(0px 1px 2px rgba(0, 0, 0, 0.3));\n",
              "      fill: #FFFFFF;\n",
              "    }\n",
              "  </style>\n",
              "\n",
              "    <script>\n",
              "      const buttonEl =\n",
              "        document.querySelector('#df-0d51dfb5-0e97-4a67-980a-cc8826402f62 button.colab-df-convert');\n",
              "      buttonEl.style.display =\n",
              "        google.colab.kernel.accessAllowed ? 'block' : 'none';\n",
              "\n",
              "      async function convertToInteractive(key) {\n",
              "        const element = document.querySelector('#df-0d51dfb5-0e97-4a67-980a-cc8826402f62');\n",
              "        const dataTable =\n",
              "          await google.colab.kernel.invokeFunction('convertToInteractive',\n",
              "                                                    [key], {});\n",
              "        if (!dataTable) return;\n",
              "\n",
              "        const docLinkHtml = 'Like what you see? Visit the ' +\n",
              "          '<a target=\"_blank\" href=https://colab.research.google.com/notebooks/data_table.ipynb>data table notebook</a>'\n",
              "          + ' to learn more about interactive tables.';\n",
              "        element.innerHTML = '';\n",
              "        dataTable['output_type'] = 'display_data';\n",
              "        await google.colab.output.renderOutput(dataTable, element);\n",
              "        const docLink = document.createElement('div');\n",
              "        docLink.innerHTML = docLinkHtml;\n",
              "        element.appendChild(docLink);\n",
              "      }\n",
              "    </script>\n",
              "  </div>\n",
              "\n",
              "\n",
              "    <div id=\"df-5d71d336-26ef-4af3-a6b9-2fcf960185f0\">\n",
              "      <button class=\"colab-df-quickchart\" onclick=\"quickchart('df-5d71d336-26ef-4af3-a6b9-2fcf960185f0')\"\n",
              "                title=\"Suggest charts\"\n",
              "                style=\"display:none;\">\n",
              "\n",
              "<svg xmlns=\"http://www.w3.org/2000/svg\" height=\"24px\"viewBox=\"0 0 24 24\"\n",
              "     width=\"24px\">\n",
              "    <g>\n",
              "        <path d=\"M19 3H5c-1.1 0-2 .9-2 2v14c0 1.1.9 2 2 2h14c1.1 0 2-.9 2-2V5c0-1.1-.9-2-2-2zM9 17H7v-7h2v7zm4 0h-2V7h2v10zm4 0h-2v-4h2v4z\"/>\n",
              "    </g>\n",
              "</svg>\n",
              "      </button>\n",
              "\n",
              "<style>\n",
              "  .colab-df-quickchart {\n",
              "      --bg-color: #E8F0FE;\n",
              "      --fill-color: #1967D2;\n",
              "      --hover-bg-color: #E2EBFA;\n",
              "      --hover-fill-color: #174EA6;\n",
              "      --disabled-fill-color: #AAA;\n",
              "      --disabled-bg-color: #DDD;\n",
              "  }\n",
              "\n",
              "  [theme=dark] .colab-df-quickchart {\n",
              "      --bg-color: #3B4455;\n",
              "      --fill-color: #D2E3FC;\n",
              "      --hover-bg-color: #434B5C;\n",
              "      --hover-fill-color: #FFFFFF;\n",
              "      --disabled-bg-color: #3B4455;\n",
              "      --disabled-fill-color: #666;\n",
              "  }\n",
              "\n",
              "  .colab-df-quickchart {\n",
              "    background-color: var(--bg-color);\n",
              "    border: none;\n",
              "    border-radius: 50%;\n",
              "    cursor: pointer;\n",
              "    display: none;\n",
              "    fill: var(--fill-color);\n",
              "    height: 32px;\n",
              "    padding: 0;\n",
              "    width: 32px;\n",
              "  }\n",
              "\n",
              "  .colab-df-quickchart:hover {\n",
              "    background-color: var(--hover-bg-color);\n",
              "    box-shadow: 0 1px 2px rgba(60, 64, 67, 0.3), 0 1px 3px 1px rgba(60, 64, 67, 0.15);\n",
              "    fill: var(--button-hover-fill-color);\n",
              "  }\n",
              "\n",
              "  .colab-df-quickchart-complete:disabled,\n",
              "  .colab-df-quickchart-complete:disabled:hover {\n",
              "    background-color: var(--disabled-bg-color);\n",
              "    fill: var(--disabled-fill-color);\n",
              "    box-shadow: none;\n",
              "  }\n",
              "\n",
              "  .colab-df-spinner {\n",
              "    border: 2px solid var(--fill-color);\n",
              "    border-color: transparent;\n",
              "    border-bottom-color: var(--fill-color);\n",
              "    animation:\n",
              "      spin 1s steps(1) infinite;\n",
              "  }\n",
              "\n",
              "  @keyframes spin {\n",
              "    0% {\n",
              "      border-color: transparent;\n",
              "      border-bottom-color: var(--fill-color);\n",
              "      border-left-color: var(--fill-color);\n",
              "    }\n",
              "    20% {\n",
              "      border-color: transparent;\n",
              "      border-left-color: var(--fill-color);\n",
              "      border-top-color: var(--fill-color);\n",
              "    }\n",
              "    30% {\n",
              "      border-color: transparent;\n",
              "      border-left-color: var(--fill-color);\n",
              "      border-top-color: var(--fill-color);\n",
              "      border-right-color: var(--fill-color);\n",
              "    }\n",
              "    40% {\n",
              "      border-color: transparent;\n",
              "      border-right-color: var(--fill-color);\n",
              "      border-top-color: var(--fill-color);\n",
              "    }\n",
              "    60% {\n",
              "      border-color: transparent;\n",
              "      border-right-color: var(--fill-color);\n",
              "    }\n",
              "    80% {\n",
              "      border-color: transparent;\n",
              "      border-right-color: var(--fill-color);\n",
              "      border-bottom-color: var(--fill-color);\n",
              "    }\n",
              "    90% {\n",
              "      border-color: transparent;\n",
              "      border-bottom-color: var(--fill-color);\n",
              "    }\n",
              "  }\n",
              "</style>\n",
              "\n",
              "      <script>\n",
              "        async function quickchart(key) {\n",
              "          const quickchartButtonEl =\n",
              "            document.querySelector('#' + key + ' button');\n",
              "          quickchartButtonEl.disabled = true;  // To prevent multiple clicks.\n",
              "          quickchartButtonEl.classList.add('colab-df-spinner');\n",
              "          try {\n",
              "            const charts = await google.colab.kernel.invokeFunction(\n",
              "                'suggestCharts', [key], {});\n",
              "          } catch (error) {\n",
              "            console.error('Error during call to suggestCharts:', error);\n",
              "          }\n",
              "          quickchartButtonEl.classList.remove('colab-df-spinner');\n",
              "          quickchartButtonEl.classList.add('colab-df-quickchart-complete');\n",
              "        }\n",
              "        (() => {\n",
              "          let quickchartButtonEl =\n",
              "            document.querySelector('#df-5d71d336-26ef-4af3-a6b9-2fcf960185f0 button');\n",
              "          quickchartButtonEl.style.display =\n",
              "            google.colab.kernel.accessAllowed ? 'block' : 'none';\n",
              "        })();\n",
              "      </script>\n",
              "    </div>\n",
              "\n",
              "    </div>\n",
              "  </div>\n"
            ],
            "application/vnd.google.colaboratory.intrinsic+json": {
              "type": "dataframe",
              "variable_name": "test_df",
              "summary": "{\n  \"name\": \"test_df\",\n  \"rows\": 21098,\n  \"fields\": [\n    {\n      \"column\": \"TransactionID\",\n      \"properties\": {\n        \"dtype\": \"string\",\n        \"num_unique_values\": 20937,\n        \"samples\": [\n          \"43ce8eb85a54a28eb1fbbdd17504cf40d12d6229\",\n          \"7bece81270e63e1f39005349083384dfc1915b73\",\n          \"ef8035dee1d1075f2a077de9c41618e9d6e28d6e\"\n        ],\n        \"semantic_type\": \"\",\n        \"description\": \"\"\n      }\n    },\n    {\n      \"column\": \"MemberID\",\n      \"properties\": {\n        \"dtype\": \"category\",\n        \"num_unique_values\": 6381,\n        \"samples\": [\n          \"05cb9856e278353bd4b34c399f6b6493\",\n          \"688d802b4d42497159b48fbb5bf12fab\",\n          \"2cc5204a766d515dc98687c4417db25d\"\n        ],\n        \"semantic_type\": \"\",\n        \"description\": \"\"\n      }\n    },\n    {\n      \"column\": \"Source\",\n      \"properties\": {\n        \"dtype\": \"category\",\n        \"num_unique_values\": 635,\n        \"samples\": [\n          \"KDS SUPERMARKET\",\n          \"MIMI\",\n          \"LANGGENG SUSU\"\n        ],\n        \"semantic_type\": \"\",\n        \"description\": \"\"\n      }\n    },\n    {\n      \"column\": \"FK_PRODUCT_ID\",\n      \"properties\": {\n        \"dtype\": \"number\",\n        \"std\": 2,\n        \"min\": 22,\n        \"max\": 53,\n        \"num_unique_values\": 5,\n        \"samples\": [\n          26,\n          53,\n          22\n        ],\n        \"semantic_type\": \"\",\n        \"description\": \"\"\n      }\n    },\n    {\n      \"column\": \"FK_PROD_GRAM_ID\",\n      \"properties\": {\n        \"dtype\": \"number\",\n        \"std\": 5,\n        \"min\": 39,\n        \"max\": 52,\n        \"num_unique_values\": 3,\n        \"samples\": [\n          52,\n          49,\n          39\n        ],\n        \"semantic_type\": \"\",\n        \"description\": \"\"\n      }\n    },\n    {\n      \"column\": \"Qty\",\n      \"properties\": {\n        \"dtype\": \"number\",\n        \"std\": 0,\n        \"min\": 1,\n        \"max\": 24,\n        \"num_unique_values\": 16,\n        \"samples\": [\n          1,\n          2,\n          5\n        ],\n        \"semantic_type\": \"\",\n        \"description\": \"\"\n      }\n    },\n    {\n      \"column\": \"PricePerUnit\",\n      \"properties\": {\n        \"dtype\": \"number\",\n        \"std\": 77015.91547795427,\n        \"min\": 45000.0,\n        \"max\": 780000.0,\n        \"num_unique_values\": 840,\n        \"samples\": [\n          75500.0,\n          272955.0,\n          287000.0\n        ],\n        \"semantic_type\": \"\",\n        \"description\": \"\"\n      }\n    },\n    {\n      \"column\": \"TransactionDatetime\",\n      \"properties\": {\n        \"dtype\": \"object\",\n        \"num_unique_values\": 20145,\n        \"samples\": [\n          \"2021-03-21 17:28:00 UTC\",\n          \"2020-12-26 12:24:00 UTC\",\n          \"2020-09-28 20:13:00 UTC\"\n        ],\n        \"semantic_type\": \"\",\n        \"description\": \"\"\n      }\n    },\n    {\n      \"column\": \"JoinDate\",\n      \"properties\": {\n        \"dtype\": \"object\",\n        \"num_unique_values\": 998,\n        \"samples\": [\n          \"2018-10-10\",\n          \"2020-12-19\",\n          \"2019-09-11\"\n        ],\n        \"semantic_type\": \"\",\n        \"description\": \"\"\n      }\n    },\n    {\n      \"column\": \"DateOfBirth\",\n      \"properties\": {\n        \"dtype\": \"date\",\n        \"min\": \"1900-01-02 00:00:00\",\n        \"max\": \"2017-09-14 00:00:00\",\n        \"num_unique_values\": 158,\n        \"samples\": [\n          \"2016-09-05\",\n          \"2017-04-21\",\n          \"1988-06-04\"\n        ],\n        \"semantic_type\": \"\",\n        \"description\": \"\"\n      }\n    },\n    {\n      \"column\": \"City\",\n      \"properties\": {\n        \"dtype\": \"category\",\n        \"num_unique_values\": 283,\n        \"samples\": [\n          \"BALIKPAPAN\",\n          \"PENAJAM PASER UTARA\",\n          \"SERANG\"\n        ],\n        \"semantic_type\": \"\",\n        \"description\": \"\"\n      }\n    },\n    {\n      \"column\": \"NoOfChild\",\n      \"properties\": {\n        \"dtype\": \"number\",\n        \"std\": 0,\n        \"min\": 1,\n        \"max\": 8,\n        \"num_unique_values\": 7,\n        \"samples\": [\n          1,\n          2,\n          5\n        ],\n        \"semantic_type\": \"\",\n        \"description\": \"\"\n      }\n    },\n    {\n      \"column\": \"EldestKidDOB\",\n      \"properties\": {\n        \"dtype\": \"object\",\n        \"num_unique_values\": 2005,\n        \"samples\": [\n          \"2015-05-19\",\n          \"2017-08-31\",\n          \"2017-07-06\"\n        ],\n        \"semantic_type\": \"\",\n        \"description\": \"\"\n      }\n    },\n    {\n      \"column\": \"YoungestKidDOB\",\n      \"properties\": {\n        \"dtype\": \"object\",\n        \"num_unique_values\": 1841,\n        \"samples\": [\n          \"2014-05-17\",\n          \"2016-04-12\",\n          \"2019-06-21\"\n        ],\n        \"semantic_type\": \"\",\n        \"description\": \"\"\n      }\n    }\n  ]\n}"
            }
          },
          "metadata": {},
          "execution_count": 47
        }
      ]
    },
    {
      "cell_type": "code",
      "source": [
        "# prompt: encode the YoungestKidDOB column to integer of days since year 2000\n",
        "\n",
        "import pandas as pd\n",
        "# Convert 'YoungestKidDOB' to datetime, coercing errors\n",
        "test_df['YoungestKidDOB'] = pd.to_datetime(test_df['YoungestKidDOB'], errors='coerce')\n",
        "\n",
        "# Define the base date (January 1, 2000)\n",
        "base_date = pd.to_datetime('2000-01-01')\n",
        "\n",
        "# Calculate the difference in days and encode\n",
        "test_df['YoungestKidDOB_encoded'] = (test_df['YoungestKidDOB'] - base_date).dt.days\n",
        "\n",
        "# Display the first few rows with the new column\n",
        "print(test_df[['YoungestKidDOB', 'YoungestKidDOB_encoded']].head())"
      ],
      "metadata": {
        "colab": {
          "base_uri": "https://localhost:8080/"
        },
        "id": "g1GTfXYc0qkL",
        "outputId": "9a4ce1a9-7df2-43ec-8e9c-5a0803ee1d93"
      },
      "execution_count": 48,
      "outputs": [
        {
          "output_type": "stream",
          "name": "stdout",
          "text": [
            "  YoungestKidDOB  YoungestKidDOB_encoded\n",
            "0     2018-07-04                    6759\n",
            "1     2018-12-21                    6929\n",
            "2     2018-12-17                    6925\n",
            "3     2017-06-17                    6377\n",
            "4     2015-05-14                    5612\n"
          ]
        }
      ]
    },
    {
      "cell_type": "code",
      "source": [
        "# prompt: make next_buy as the last column instead of YoungestKidDOB_normalized\n",
        "\n",
        "# Move 'next_buy' to the last column\n",
        "next_buy_column = df.pop('next_buy')\n",
        "df['next_buy'] = next_buy_column"
      ],
      "metadata": {
        "id": "_gbIW6111Fel"
      },
      "execution_count": 49,
      "outputs": []
    },
    {
      "cell_type": "code",
      "source": [
        "# Drop the 'MemberID' column as it is not needed for modeling\n",
        "test_df = test_df.drop('DateOfBirth', axis=1)\n",
        "test_df = test_df.drop('TransactionDatetime', axis=1)\n",
        "test_df = test_df.drop('JoinDate', axis=1)\n",
        "test_df = test_df.drop('EldestKidDOB', axis=1)\n",
        "test_df = test_df.drop('YoungestKidDOB', axis=1)"
      ],
      "metadata": {
        "id": "aPQjOsyR0aJy"
      },
      "execution_count": 51,
      "outputs": []
    },
    {
      "cell_type": "code",
      "source": [
        "test_df.info()"
      ],
      "metadata": {
        "colab": {
          "base_uri": "https://localhost:8080/"
        },
        "id": "sso08pIV1HFr",
        "outputId": "23d21a11-e7b5-476e-f48d-3fe0cf01e2d7"
      },
      "execution_count": 52,
      "outputs": [
        {
          "output_type": "stream",
          "name": "stdout",
          "text": [
            "<class 'pandas.core.frame.DataFrame'>\n",
            "RangeIndex: 21098 entries, 0 to 21097\n",
            "Data columns (total 10 columns):\n",
            " #   Column                  Non-Null Count  Dtype  \n",
            "---  ------                  --------------  -----  \n",
            " 0   TransactionID           21098 non-null  object \n",
            " 1   MemberID                21098 non-null  object \n",
            " 2   Source                  21098 non-null  object \n",
            " 3   FK_PRODUCT_ID           21098 non-null  int64  \n",
            " 4   FK_PROD_GRAM_ID         21098 non-null  int64  \n",
            " 5   Qty                     21098 non-null  int64  \n",
            " 6   PricePerUnit            17917 non-null  float64\n",
            " 7   City                    21098 non-null  object \n",
            " 8   NoOfChild               21098 non-null  int64  \n",
            " 9   YoungestKidDOB_encoded  21098 non-null  int64  \n",
            "dtypes: float64(1), int64(5), object(4)\n",
            "memory usage: 1.6+ MB\n"
          ]
        }
      ]
    },
    {
      "cell_type": "code",
      "source": [
        "test_df.to_csv(\"new_test_feature_still_existed.csv\")"
      ],
      "metadata": {
        "id": "ASnvb73W1PMD"
      },
      "execution_count": 53,
      "outputs": []
    },
    {
      "cell_type": "code",
      "source": [
        "import pandas as pd\n",
        "\n",
        "# Load datasets\n",
        "train_df = pd.read_csv(\"new_train_feature_still_existed.csv\")\n",
        "test_df = pd.read_csv(\"new_test_feature_still_existed.csv\")\n",
        "\n",
        "# Target column\n",
        "target = 'next_buy'\n",
        "\n",
        "# Target encoding using mean for all categorical columns\n",
        "city_mean = train_df.groupby('City')[target].mean()\n",
        "source_mean = train_df.groupby('Source')[target].mean()\n",
        "prod_id_mean = train_df.groupby('FK_PRODUCT_ID')[target].mean()\n",
        "prod_gram_id_mean = train_df.groupby('FK_PROD_GRAM_ID')[target].mean()\n",
        "\n",
        "# Apply mapping to test set\n",
        "test_df['City_encoded'] = test_df['City'].map(city_mean)\n",
        "test_df['Source_encoded'] = test_df['Source'].map(source_mean)\n",
        "test_df['FK_PRODUCT_ID_encoded'] = test_df['FK_PRODUCT_ID'].map(prod_id_mean)\n",
        "test_df['FK_PROD_GRAM_ID_encoded'] = test_df['FK_PROD_GRAM_ID'].map(prod_gram_id_mean)\n",
        "\n",
        "# Save updated test set\n",
        "test_df.to_csv(\"updated_test_with_all_encoded.csv\", index=False)\n",
        "print(\"✅ Test set saved as 'updated_test_with_all_encoded.csv'\")\n"
      ],
      "metadata": {
        "colab": {
          "base_uri": "https://localhost:8080/"
        },
        "id": "4M5o-elD1hjw",
        "outputId": "bf2a90c9-0905-45e5-bd5e-7118c9e107ff"
      },
      "execution_count": 57,
      "outputs": [
        {
          "output_type": "stream",
          "name": "stdout",
          "text": [
            "✅ Test set saved as 'updated_test_with_all_encoded.csv'\n"
          ]
        }
      ]
    },
    {
      "cell_type": "code",
      "source": [
        "test_df = pd.read_csv(\"/content/updated_test_with_all_encoded.csv\")"
      ],
      "metadata": {
        "id": "KUHzVw7L3KXP"
      },
      "execution_count": 58,
      "outputs": []
    },
    {
      "cell_type": "code",
      "source": [
        "test_df.head()"
      ],
      "metadata": {
        "colab": {
          "base_uri": "https://localhost:8080/",
          "height": 243
        },
        "id": "qGSmddH73VIk",
        "outputId": "43ca8ec9-615b-4fcd-9dc1-48f1cd0ae507"
      },
      "execution_count": 59,
      "outputs": [
        {
          "output_type": "execute_result",
          "data": {
            "text/plain": [
              "   Unnamed: 0                             TransactionID  \\\n",
              "0           0  5f57263c9b0b2b3e3d7c404510dd59060999115a   \n",
              "1           1  b0c438ae346e794fef83c63a9ce17d6df73da233   \n",
              "2           2  7e2498fc518f0b1489982848a29dc2677ec31367   \n",
              "3           3  aaa52daf4ca3b8befcbe01362d8219f67293bf45   \n",
              "4           4  4ec62459fb8d83062284e32f3c7b5af125d242b1   \n",
              "\n",
              "                           MemberID     Source  FK_PRODUCT_ID  \\\n",
              "0  c2a630e3d0dc77dac0f63424a9ae1438   ALFAMART             27   \n",
              "1  3ecf7484c08418953e967a20de37051b   ALFAMART             27   \n",
              "2  97bbd6c99a862f20657d9b2b1c77b2c8   ALFAMART             27   \n",
              "3  3ce072ff9c6f2f4b7c95dbc08324a24d  INDOMARET             26   \n",
              "4  ab0b0de2a1c85a40b5d58644aef745c0   ALFAMART             26   \n",
              "\n",
              "   FK_PROD_GRAM_ID  Qty  PricePerUnit       City  NoOfChild  \\\n",
              "0               52    1      165300.0     MADIUN          1   \n",
              "1               52    1      165300.0    KEBUMEN          1   \n",
              "2               52    1      165300.0      BOGOR          2   \n",
              "3               49    1           NaN  PALEMBANG          1   \n",
              "4               49    2       85500.0   SURABAYA          2   \n",
              "\n",
              "   YoungestKidDOB_encoded  City_encoded  Source_encoded  \\\n",
              "0                    6759      0.133523        0.135032   \n",
              "1                    6929      0.022044        0.135032   \n",
              "2                    6925      0.173841        0.135032   \n",
              "3                    6377      0.130226        0.205367   \n",
              "4                    5612      0.192486        0.135032   \n",
              "\n",
              "   FK_PRODUCT_ID_encoded  FK_PROD_GRAM_ID_encoded  \n",
              "0               0.016952                 0.016976  \n",
              "1               0.016952                 0.016976  \n",
              "2               0.016952                 0.016976  \n",
              "3               0.010196                 0.010148  \n",
              "4               0.010196                 0.010148  "
            ],
            "text/html": [
              "\n",
              "  <div id=\"df-256e9356-6e82-45da-b1d5-a0f50d47e4ab\" class=\"colab-df-container\">\n",
              "    <div>\n",
              "<style scoped>\n",
              "    .dataframe tbody tr th:only-of-type {\n",
              "        vertical-align: middle;\n",
              "    }\n",
              "\n",
              "    .dataframe tbody tr th {\n",
              "        vertical-align: top;\n",
              "    }\n",
              "\n",
              "    .dataframe thead th {\n",
              "        text-align: right;\n",
              "    }\n",
              "</style>\n",
              "<table border=\"1\" class=\"dataframe\">\n",
              "  <thead>\n",
              "    <tr style=\"text-align: right;\">\n",
              "      <th></th>\n",
              "      <th>Unnamed: 0</th>\n",
              "      <th>TransactionID</th>\n",
              "      <th>MemberID</th>\n",
              "      <th>Source</th>\n",
              "      <th>FK_PRODUCT_ID</th>\n",
              "      <th>FK_PROD_GRAM_ID</th>\n",
              "      <th>Qty</th>\n",
              "      <th>PricePerUnit</th>\n",
              "      <th>City</th>\n",
              "      <th>NoOfChild</th>\n",
              "      <th>YoungestKidDOB_encoded</th>\n",
              "      <th>City_encoded</th>\n",
              "      <th>Source_encoded</th>\n",
              "      <th>FK_PRODUCT_ID_encoded</th>\n",
              "      <th>FK_PROD_GRAM_ID_encoded</th>\n",
              "    </tr>\n",
              "  </thead>\n",
              "  <tbody>\n",
              "    <tr>\n",
              "      <th>0</th>\n",
              "      <td>0</td>\n",
              "      <td>5f57263c9b0b2b3e3d7c404510dd59060999115a</td>\n",
              "      <td>c2a630e3d0dc77dac0f63424a9ae1438</td>\n",
              "      <td>ALFAMART</td>\n",
              "      <td>27</td>\n",
              "      <td>52</td>\n",
              "      <td>1</td>\n",
              "      <td>165300.0</td>\n",
              "      <td>MADIUN</td>\n",
              "      <td>1</td>\n",
              "      <td>6759</td>\n",
              "      <td>0.133523</td>\n",
              "      <td>0.135032</td>\n",
              "      <td>0.016952</td>\n",
              "      <td>0.016976</td>\n",
              "    </tr>\n",
              "    <tr>\n",
              "      <th>1</th>\n",
              "      <td>1</td>\n",
              "      <td>b0c438ae346e794fef83c63a9ce17d6df73da233</td>\n",
              "      <td>3ecf7484c08418953e967a20de37051b</td>\n",
              "      <td>ALFAMART</td>\n",
              "      <td>27</td>\n",
              "      <td>52</td>\n",
              "      <td>1</td>\n",
              "      <td>165300.0</td>\n",
              "      <td>KEBUMEN</td>\n",
              "      <td>1</td>\n",
              "      <td>6929</td>\n",
              "      <td>0.022044</td>\n",
              "      <td>0.135032</td>\n",
              "      <td>0.016952</td>\n",
              "      <td>0.016976</td>\n",
              "    </tr>\n",
              "    <tr>\n",
              "      <th>2</th>\n",
              "      <td>2</td>\n",
              "      <td>7e2498fc518f0b1489982848a29dc2677ec31367</td>\n",
              "      <td>97bbd6c99a862f20657d9b2b1c77b2c8</td>\n",
              "      <td>ALFAMART</td>\n",
              "      <td>27</td>\n",
              "      <td>52</td>\n",
              "      <td>1</td>\n",
              "      <td>165300.0</td>\n",
              "      <td>BOGOR</td>\n",
              "      <td>2</td>\n",
              "      <td>6925</td>\n",
              "      <td>0.173841</td>\n",
              "      <td>0.135032</td>\n",
              "      <td>0.016952</td>\n",
              "      <td>0.016976</td>\n",
              "    </tr>\n",
              "    <tr>\n",
              "      <th>3</th>\n",
              "      <td>3</td>\n",
              "      <td>aaa52daf4ca3b8befcbe01362d8219f67293bf45</td>\n",
              "      <td>3ce072ff9c6f2f4b7c95dbc08324a24d</td>\n",
              "      <td>INDOMARET</td>\n",
              "      <td>26</td>\n",
              "      <td>49</td>\n",
              "      <td>1</td>\n",
              "      <td>NaN</td>\n",
              "      <td>PALEMBANG</td>\n",
              "      <td>1</td>\n",
              "      <td>6377</td>\n",
              "      <td>0.130226</td>\n",
              "      <td>0.205367</td>\n",
              "      <td>0.010196</td>\n",
              "      <td>0.010148</td>\n",
              "    </tr>\n",
              "    <tr>\n",
              "      <th>4</th>\n",
              "      <td>4</td>\n",
              "      <td>4ec62459fb8d83062284e32f3c7b5af125d242b1</td>\n",
              "      <td>ab0b0de2a1c85a40b5d58644aef745c0</td>\n",
              "      <td>ALFAMART</td>\n",
              "      <td>26</td>\n",
              "      <td>49</td>\n",
              "      <td>2</td>\n",
              "      <td>85500.0</td>\n",
              "      <td>SURABAYA</td>\n",
              "      <td>2</td>\n",
              "      <td>5612</td>\n",
              "      <td>0.192486</td>\n",
              "      <td>0.135032</td>\n",
              "      <td>0.010196</td>\n",
              "      <td>0.010148</td>\n",
              "    </tr>\n",
              "  </tbody>\n",
              "</table>\n",
              "</div>\n",
              "    <div class=\"colab-df-buttons\">\n",
              "\n",
              "  <div class=\"colab-df-container\">\n",
              "    <button class=\"colab-df-convert\" onclick=\"convertToInteractive('df-256e9356-6e82-45da-b1d5-a0f50d47e4ab')\"\n",
              "            title=\"Convert this dataframe to an interactive table.\"\n",
              "            style=\"display:none;\">\n",
              "\n",
              "  <svg xmlns=\"http://www.w3.org/2000/svg\" height=\"24px\" viewBox=\"0 -960 960 960\">\n",
              "    <path d=\"M120-120v-720h720v720H120Zm60-500h600v-160H180v160Zm220 220h160v-160H400v160Zm0 220h160v-160H400v160ZM180-400h160v-160H180v160Zm440 0h160v-160H620v160ZM180-180h160v-160H180v160Zm440 0h160v-160H620v160Z\"/>\n",
              "  </svg>\n",
              "    </button>\n",
              "\n",
              "  <style>\n",
              "    .colab-df-container {\n",
              "      display:flex;\n",
              "      gap: 12px;\n",
              "    }\n",
              "\n",
              "    .colab-df-convert {\n",
              "      background-color: #E8F0FE;\n",
              "      border: none;\n",
              "      border-radius: 50%;\n",
              "      cursor: pointer;\n",
              "      display: none;\n",
              "      fill: #1967D2;\n",
              "      height: 32px;\n",
              "      padding: 0 0 0 0;\n",
              "      width: 32px;\n",
              "    }\n",
              "\n",
              "    .colab-df-convert:hover {\n",
              "      background-color: #E2EBFA;\n",
              "      box-shadow: 0px 1px 2px rgba(60, 64, 67, 0.3), 0px 1px 3px 1px rgba(60, 64, 67, 0.15);\n",
              "      fill: #174EA6;\n",
              "    }\n",
              "\n",
              "    .colab-df-buttons div {\n",
              "      margin-bottom: 4px;\n",
              "    }\n",
              "\n",
              "    [theme=dark] .colab-df-convert {\n",
              "      background-color: #3B4455;\n",
              "      fill: #D2E3FC;\n",
              "    }\n",
              "\n",
              "    [theme=dark] .colab-df-convert:hover {\n",
              "      background-color: #434B5C;\n",
              "      box-shadow: 0px 1px 3px 1px rgba(0, 0, 0, 0.15);\n",
              "      filter: drop-shadow(0px 1px 2px rgba(0, 0, 0, 0.3));\n",
              "      fill: #FFFFFF;\n",
              "    }\n",
              "  </style>\n",
              "\n",
              "    <script>\n",
              "      const buttonEl =\n",
              "        document.querySelector('#df-256e9356-6e82-45da-b1d5-a0f50d47e4ab button.colab-df-convert');\n",
              "      buttonEl.style.display =\n",
              "        google.colab.kernel.accessAllowed ? 'block' : 'none';\n",
              "\n",
              "      async function convertToInteractive(key) {\n",
              "        const element = document.querySelector('#df-256e9356-6e82-45da-b1d5-a0f50d47e4ab');\n",
              "        const dataTable =\n",
              "          await google.colab.kernel.invokeFunction('convertToInteractive',\n",
              "                                                    [key], {});\n",
              "        if (!dataTable) return;\n",
              "\n",
              "        const docLinkHtml = 'Like what you see? Visit the ' +\n",
              "          '<a target=\"_blank\" href=https://colab.research.google.com/notebooks/data_table.ipynb>data table notebook</a>'\n",
              "          + ' to learn more about interactive tables.';\n",
              "        element.innerHTML = '';\n",
              "        dataTable['output_type'] = 'display_data';\n",
              "        await google.colab.output.renderOutput(dataTable, element);\n",
              "        const docLink = document.createElement('div');\n",
              "        docLink.innerHTML = docLinkHtml;\n",
              "        element.appendChild(docLink);\n",
              "      }\n",
              "    </script>\n",
              "  </div>\n",
              "\n",
              "\n",
              "    <div id=\"df-1aab5cc0-fe74-44a5-8b25-22cb6dca4377\">\n",
              "      <button class=\"colab-df-quickchart\" onclick=\"quickchart('df-1aab5cc0-fe74-44a5-8b25-22cb6dca4377')\"\n",
              "                title=\"Suggest charts\"\n",
              "                style=\"display:none;\">\n",
              "\n",
              "<svg xmlns=\"http://www.w3.org/2000/svg\" height=\"24px\"viewBox=\"0 0 24 24\"\n",
              "     width=\"24px\">\n",
              "    <g>\n",
              "        <path d=\"M19 3H5c-1.1 0-2 .9-2 2v14c0 1.1.9 2 2 2h14c1.1 0 2-.9 2-2V5c0-1.1-.9-2-2-2zM9 17H7v-7h2v7zm4 0h-2V7h2v10zm4 0h-2v-4h2v4z\"/>\n",
              "    </g>\n",
              "</svg>\n",
              "      </button>\n",
              "\n",
              "<style>\n",
              "  .colab-df-quickchart {\n",
              "      --bg-color: #E8F0FE;\n",
              "      --fill-color: #1967D2;\n",
              "      --hover-bg-color: #E2EBFA;\n",
              "      --hover-fill-color: #174EA6;\n",
              "      --disabled-fill-color: #AAA;\n",
              "      --disabled-bg-color: #DDD;\n",
              "  }\n",
              "\n",
              "  [theme=dark] .colab-df-quickchart {\n",
              "      --bg-color: #3B4455;\n",
              "      --fill-color: #D2E3FC;\n",
              "      --hover-bg-color: #434B5C;\n",
              "      --hover-fill-color: #FFFFFF;\n",
              "      --disabled-bg-color: #3B4455;\n",
              "      --disabled-fill-color: #666;\n",
              "  }\n",
              "\n",
              "  .colab-df-quickchart {\n",
              "    background-color: var(--bg-color);\n",
              "    border: none;\n",
              "    border-radius: 50%;\n",
              "    cursor: pointer;\n",
              "    display: none;\n",
              "    fill: var(--fill-color);\n",
              "    height: 32px;\n",
              "    padding: 0;\n",
              "    width: 32px;\n",
              "  }\n",
              "\n",
              "  .colab-df-quickchart:hover {\n",
              "    background-color: var(--hover-bg-color);\n",
              "    box-shadow: 0 1px 2px rgba(60, 64, 67, 0.3), 0 1px 3px 1px rgba(60, 64, 67, 0.15);\n",
              "    fill: var(--button-hover-fill-color);\n",
              "  }\n",
              "\n",
              "  .colab-df-quickchart-complete:disabled,\n",
              "  .colab-df-quickchart-complete:disabled:hover {\n",
              "    background-color: var(--disabled-bg-color);\n",
              "    fill: var(--disabled-fill-color);\n",
              "    box-shadow: none;\n",
              "  }\n",
              "\n",
              "  .colab-df-spinner {\n",
              "    border: 2px solid var(--fill-color);\n",
              "    border-color: transparent;\n",
              "    border-bottom-color: var(--fill-color);\n",
              "    animation:\n",
              "      spin 1s steps(1) infinite;\n",
              "  }\n",
              "\n",
              "  @keyframes spin {\n",
              "    0% {\n",
              "      border-color: transparent;\n",
              "      border-bottom-color: var(--fill-color);\n",
              "      border-left-color: var(--fill-color);\n",
              "    }\n",
              "    20% {\n",
              "      border-color: transparent;\n",
              "      border-left-color: var(--fill-color);\n",
              "      border-top-color: var(--fill-color);\n",
              "    }\n",
              "    30% {\n",
              "      border-color: transparent;\n",
              "      border-left-color: var(--fill-color);\n",
              "      border-top-color: var(--fill-color);\n",
              "      border-right-color: var(--fill-color);\n",
              "    }\n",
              "    40% {\n",
              "      border-color: transparent;\n",
              "      border-right-color: var(--fill-color);\n",
              "      border-top-color: var(--fill-color);\n",
              "    }\n",
              "    60% {\n",
              "      border-color: transparent;\n",
              "      border-right-color: var(--fill-color);\n",
              "    }\n",
              "    80% {\n",
              "      border-color: transparent;\n",
              "      border-right-color: var(--fill-color);\n",
              "      border-bottom-color: var(--fill-color);\n",
              "    }\n",
              "    90% {\n",
              "      border-color: transparent;\n",
              "      border-bottom-color: var(--fill-color);\n",
              "    }\n",
              "  }\n",
              "</style>\n",
              "\n",
              "      <script>\n",
              "        async function quickchart(key) {\n",
              "          const quickchartButtonEl =\n",
              "            document.querySelector('#' + key + ' button');\n",
              "          quickchartButtonEl.disabled = true;  // To prevent multiple clicks.\n",
              "          quickchartButtonEl.classList.add('colab-df-spinner');\n",
              "          try {\n",
              "            const charts = await google.colab.kernel.invokeFunction(\n",
              "                'suggestCharts', [key], {});\n",
              "          } catch (error) {\n",
              "            console.error('Error during call to suggestCharts:', error);\n",
              "          }\n",
              "          quickchartButtonEl.classList.remove('colab-df-spinner');\n",
              "          quickchartButtonEl.classList.add('colab-df-quickchart-complete');\n",
              "        }\n",
              "        (() => {\n",
              "          let quickchartButtonEl =\n",
              "            document.querySelector('#df-1aab5cc0-fe74-44a5-8b25-22cb6dca4377 button');\n",
              "          quickchartButtonEl.style.display =\n",
              "            google.colab.kernel.accessAllowed ? 'block' : 'none';\n",
              "        })();\n",
              "      </script>\n",
              "    </div>\n",
              "\n",
              "    </div>\n",
              "  </div>\n"
            ],
            "application/vnd.google.colaboratory.intrinsic+json": {
              "type": "dataframe",
              "variable_name": "test_df",
              "summary": "{\n  \"name\": \"test_df\",\n  \"rows\": 21098,\n  \"fields\": [\n    {\n      \"column\": \"Unnamed: 0\",\n      \"properties\": {\n        \"dtype\": \"number\",\n        \"std\": 6090,\n        \"min\": 0,\n        \"max\": 21097,\n        \"num_unique_values\": 21098,\n        \"samples\": [\n          17342,\n          1805,\n          4230\n        ],\n        \"semantic_type\": \"\",\n        \"description\": \"\"\n      }\n    },\n    {\n      \"column\": \"TransactionID\",\n      \"properties\": {\n        \"dtype\": \"string\",\n        \"num_unique_values\": 20937,\n        \"samples\": [\n          \"43ce8eb85a54a28eb1fbbdd17504cf40d12d6229\",\n          \"7bece81270e63e1f39005349083384dfc1915b73\",\n          \"ef8035dee1d1075f2a077de9c41618e9d6e28d6e\"\n        ],\n        \"semantic_type\": \"\",\n        \"description\": \"\"\n      }\n    },\n    {\n      \"column\": \"MemberID\",\n      \"properties\": {\n        \"dtype\": \"category\",\n        \"num_unique_values\": 6381,\n        \"samples\": [\n          \"05cb9856e278353bd4b34c399f6b6493\",\n          \"688d802b4d42497159b48fbb5bf12fab\",\n          \"2cc5204a766d515dc98687c4417db25d\"\n        ],\n        \"semantic_type\": \"\",\n        \"description\": \"\"\n      }\n    },\n    {\n      \"column\": \"Source\",\n      \"properties\": {\n        \"dtype\": \"category\",\n        \"num_unique_values\": 635,\n        \"samples\": [\n          \"KDS SUPERMARKET\",\n          \"MIMI\",\n          \"LANGGENG SUSU\"\n        ],\n        \"semantic_type\": \"\",\n        \"description\": \"\"\n      }\n    },\n    {\n      \"column\": \"FK_PRODUCT_ID\",\n      \"properties\": {\n        \"dtype\": \"number\",\n        \"std\": 2,\n        \"min\": 22,\n        \"max\": 53,\n        \"num_unique_values\": 5,\n        \"samples\": [\n          26,\n          53,\n          22\n        ],\n        \"semantic_type\": \"\",\n        \"description\": \"\"\n      }\n    },\n    {\n      \"column\": \"FK_PROD_GRAM_ID\",\n      \"properties\": {\n        \"dtype\": \"number\",\n        \"std\": 5,\n        \"min\": 39,\n        \"max\": 52,\n        \"num_unique_values\": 3,\n        \"samples\": [\n          52,\n          49,\n          39\n        ],\n        \"semantic_type\": \"\",\n        \"description\": \"\"\n      }\n    },\n    {\n      \"column\": \"Qty\",\n      \"properties\": {\n        \"dtype\": \"number\",\n        \"std\": 0,\n        \"min\": 1,\n        \"max\": 24,\n        \"num_unique_values\": 16,\n        \"samples\": [\n          1,\n          2,\n          5\n        ],\n        \"semantic_type\": \"\",\n        \"description\": \"\"\n      }\n    },\n    {\n      \"column\": \"PricePerUnit\",\n      \"properties\": {\n        \"dtype\": \"number\",\n        \"std\": 77015.91547795427,\n        \"min\": 45000.0,\n        \"max\": 780000.0,\n        \"num_unique_values\": 840,\n        \"samples\": [\n          75500.0,\n          272955.0,\n          287000.0\n        ],\n        \"semantic_type\": \"\",\n        \"description\": \"\"\n      }\n    },\n    {\n      \"column\": \"City\",\n      \"properties\": {\n        \"dtype\": \"category\",\n        \"num_unique_values\": 283,\n        \"samples\": [\n          \"BALIKPAPAN\",\n          \"PENAJAM PASER UTARA\",\n          \"SERANG\"\n        ],\n        \"semantic_type\": \"\",\n        \"description\": \"\"\n      }\n    },\n    {\n      \"column\": \"NoOfChild\",\n      \"properties\": {\n        \"dtype\": \"number\",\n        \"std\": 0,\n        \"min\": 1,\n        \"max\": 8,\n        \"num_unique_values\": 7,\n        \"samples\": [\n          1,\n          2,\n          5\n        ],\n        \"semantic_type\": \"\",\n        \"description\": \"\"\n      }\n    },\n    {\n      \"column\": \"YoungestKidDOB_encoded\",\n      \"properties\": {\n        \"dtype\": \"number\",\n        \"std\": 509,\n        \"min\": 3277,\n        \"max\": 7761,\n        \"num_unique_values\": 1841,\n        \"samples\": [\n          5250,\n          5946,\n          7111\n        ],\n        \"semantic_type\": \"\",\n        \"description\": \"\"\n      }\n    },\n    {\n      \"column\": \"City_encoded\",\n      \"properties\": {\n        \"dtype\": \"number\",\n        \"std\": 0.0918224491890589,\n        \"min\": 0.0,\n        \"max\": 0.8333333333333334,\n        \"num_unique_values\": 204,\n        \"samples\": [\n          0.2249388753056234,\n          0.1349112426035503,\n          0.2\n        ],\n        \"semantic_type\": \"\",\n        \"description\": \"\"\n      }\n    },\n    {\n      \"column\": \"Source_encoded\",\n      \"properties\": {\n        \"dtype\": \"number\",\n        \"std\": 0.08946386615325116,\n        \"min\": 0.0,\n        \"max\": 1.0,\n        \"num_unique_values\": 299,\n        \"samples\": [\n          0.3617021276595745,\n          0.1525423728813559,\n          0.0961538461538461\n        ],\n        \"semantic_type\": \"\",\n        \"description\": \"\"\n      }\n    },\n    {\n      \"column\": \"FK_PRODUCT_ID_encoded\",\n      \"properties\": {\n        \"dtype\": \"number\",\n        \"std\": 0.13714060463279848,\n        \"min\": 0.0,\n        \"max\": 0.2922933063196447,\n        \"num_unique_values\": 5,\n        \"samples\": [\n          0.0101964552637198,\n          0.0,\n          0.2922933063196447\n        ],\n        \"semantic_type\": \"\",\n        \"description\": \"\"\n      }\n    },\n    {\n      \"column\": \"FK_PROD_GRAM_ID_encoded\",\n      \"properties\": {\n        \"dtype\": \"number\",\n        \"std\": 0.1371150735582764,\n        \"min\": 0.0101479463761149,\n        \"max\": 0.2922281945418192,\n        \"num_unique_values\": 3,\n        \"samples\": [\n          0.0169757042353812,\n          0.0101479463761149,\n          0.2922281945418192\n        ],\n        \"semantic_type\": \"\",\n        \"description\": \"\"\n      }\n    }\n  ]\n}"
            }
          },
          "metadata": {},
          "execution_count": 59
        }
      ]
    },
    {
      "cell_type": "code",
      "source": [
        "test_df = test_df.drop('FK_PRODUCT_ID', axis=1)\n",
        "test_df = test_df.drop('FK_PROD_GRAM_ID', axis=1)\n",
        "test_df = test_df.drop('Source', axis=1)\n",
        "test_df = test_df.drop('City', axis=1)"
      ],
      "metadata": {
        "id": "baz9Kgit4Itl"
      },
      "execution_count": 64,
      "outputs": []
    },
    {
      "cell_type": "code",
      "source": [
        "test_df.info()"
      ],
      "metadata": {
        "colab": {
          "base_uri": "https://localhost:8080/"
        },
        "id": "UtvgMpH24sW6",
        "outputId": "05eb1e77-554f-4a4d-cb17-b5e301343796"
      },
      "execution_count": 67,
      "outputs": [
        {
          "output_type": "stream",
          "name": "stdout",
          "text": [
            "<class 'pandas.core.frame.DataFrame'>\n",
            "RangeIndex: 21098 entries, 0 to 21097\n",
            "Data columns (total 10 columns):\n",
            " #   Column                   Non-Null Count  Dtype  \n",
            "---  ------                   --------------  -----  \n",
            " 0   TransactionID            21098 non-null  object \n",
            " 1   MemberID                 21098 non-null  object \n",
            " 2   Qty                      21098 non-null  int64  \n",
            " 3   PricePerUnit             17917 non-null  float64\n",
            " 4   NoOfChild                21098 non-null  int64  \n",
            " 5   YoungestKidDOB_encoded   21098 non-null  int64  \n",
            " 6   City_encoded             21066 non-null  float64\n",
            " 7   Source_encoded           20914 non-null  float64\n",
            " 8   FK_PRODUCT_ID_encoded    21098 non-null  float64\n",
            " 9   FK_PROD_GRAM_ID_encoded  21098 non-null  float64\n",
            "dtypes: float64(5), int64(3), object(2)\n",
            "memory usage: 1.6+ MB\n"
          ]
        }
      ]
    },
    {
      "cell_type": "code",
      "source": [
        "test_df = test_df.drop('Unnamed: 0', axis=1)"
      ],
      "metadata": {
        "id": "_kJptUnm4uNB"
      },
      "execution_count": 66,
      "outputs": []
    },
    {
      "cell_type": "code",
      "source": [
        "df.info()"
      ],
      "metadata": {
        "colab": {
          "base_uri": "https://localhost:8080/"
        },
        "id": "59SGyRBx4zCZ",
        "outputId": "b253d990-4190-4e53-b156-ab1b927201d6"
      },
      "execution_count": 68,
      "outputs": [
        {
          "output_type": "stream",
          "name": "stdout",
          "text": [
            "<class 'pandas.core.frame.DataFrame'>\n",
            "RangeIndex: 130854 entries, 0 to 130853\n",
            "Data columns (total 15 columns):\n",
            " #   Column                   Non-Null Count   Dtype  \n",
            "---  ------                   --------------   -----  \n",
            " 0   TransactionID            130854 non-null  object \n",
            " 1   MemberID                 130854 non-null  object \n",
            " 2   Source                   130854 non-null  object \n",
            " 3   FK_PRODUCT_ID            130854 non-null  int64  \n",
            " 4   FK_PROD_GRAM_ID          130854 non-null  int64  \n",
            " 5   Qty                      130854 non-null  int64  \n",
            " 6   PricePerUnit             111681 non-null  float64\n",
            " 7   City                     130854 non-null  object \n",
            " 8   NoOfChild                130854 non-null  int64  \n",
            " 9   Source_encoded           130854 non-null  float64\n",
            " 10  City_encoded             130854 non-null  float64\n",
            " 11  FK_PRODUCT_ID_encoded    130854 non-null  float64\n",
            " 12  FK_PROD_GRAM_ID_encoded  130854 non-null  float64\n",
            " 13  YoungestKidDOB_encoded   130854 non-null  int64  \n",
            " 14  next_buy                 130854 non-null  int64  \n",
            "dtypes: float64(5), int64(6), object(4)\n",
            "memory usage: 15.0+ MB\n"
          ]
        }
      ]
    },
    {
      "cell_type": "code",
      "source": [
        "df = df.drop('FK_PRODUCT_ID', axis=1)\n",
        "df = df.drop('FK_PROD_GRAM_ID', axis=1)\n",
        "df = df.drop('Source', axis=1)\n",
        "df = df.drop('City', axis=1)"
      ],
      "metadata": {
        "id": "WrSI5zb942tC"
      },
      "execution_count": 69,
      "outputs": []
    },
    {
      "cell_type": "code",
      "source": [
        "df.info()"
      ],
      "metadata": {
        "colab": {
          "base_uri": "https://localhost:8080/"
        },
        "id": "DlJXRXFK5Tyg",
        "outputId": "9176e74a-933c-45d4-f5fc-e68460a794e7"
      },
      "execution_count": 70,
      "outputs": [
        {
          "output_type": "stream",
          "name": "stdout",
          "text": [
            "<class 'pandas.core.frame.DataFrame'>\n",
            "RangeIndex: 130854 entries, 0 to 130853\n",
            "Data columns (total 11 columns):\n",
            " #   Column                   Non-Null Count   Dtype  \n",
            "---  ------                   --------------   -----  \n",
            " 0   TransactionID            130854 non-null  object \n",
            " 1   MemberID                 130854 non-null  object \n",
            " 2   Qty                      130854 non-null  int64  \n",
            " 3   PricePerUnit             111681 non-null  float64\n",
            " 4   NoOfChild                130854 non-null  int64  \n",
            " 5   Source_encoded           130854 non-null  float64\n",
            " 6   City_encoded             130854 non-null  float64\n",
            " 7   FK_PRODUCT_ID_encoded    130854 non-null  float64\n",
            " 8   FK_PROD_GRAM_ID_encoded  130854 non-null  float64\n",
            " 9   YoungestKidDOB_encoded   130854 non-null  int64  \n",
            " 10  next_buy                 130854 non-null  int64  \n",
            "dtypes: float64(5), int64(4), object(2)\n",
            "memory usage: 11.0+ MB\n"
          ]
        }
      ]
    },
    {
      "cell_type": "code",
      "source": [
        "df.to_csv(\"train_final.csv\")\n",
        "test_df.to_csv(\"test_final.csv\")"
      ],
      "metadata": {
        "id": "bsCsCjcu5UwH"
      },
      "execution_count": 71,
      "outputs": []
    },
    {
      "cell_type": "code",
      "source": [
        "train_df = pd.read_csv(\"/content/train_final.csv\")\n",
        "test_df = pd.read_csv(\"/content/test_final.csv\")"
      ],
      "metadata": {
        "id": "1ETqmMK652-6"
      },
      "execution_count": 72,
      "outputs": []
    },
    {
      "cell_type": "markdown",
      "source": [
        "Machine Learning (Train)"
      ],
      "metadata": {
        "id": "Sd6Sl2X05zAr"
      }
    },
    {
      "cell_type": "code",
      "source": [],
      "metadata": {
        "id": "KCxoqWN85glm"
      },
      "execution_count": null,
      "outputs": []
    }
  ]
}